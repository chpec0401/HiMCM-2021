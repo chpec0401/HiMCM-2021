{
 "cells": [
  {
   "cell_type": "code",
   "execution_count": 1,
   "metadata": {},
   "outputs": [],
   "source": [
    "import numpy as np, pandas as pd\n",
    "from matplotlib import pyplot as plt"
   ]
  },
  {
   "cell_type": "code",
   "execution_count": 107,
   "metadata": {},
   "outputs": [
    {
     "name": "stdout",
     "output_type": "stream",
     "text": [
      "1028\n"
     ]
    }
   ],
   "source": [
    "data1 = pd.read_csv('monthlyCSV.csv', header = 0, index_col = 0)\n",
    "#data1 = data1.drop(range(1935, 1963))\n",
    "npdata1 = data1.to_numpy()\n",
    "g = []\n",
    "for i in npdata1:\n",
    "    for j in i:\n",
    "        if not np.isnan(j):\n",
    "            g.append(j)\n",
    "#min_y = min(g)\n",
    "#max_y = max(g)\n",
    "#for i in range(len(g)):\n",
    "#    g[i] -= min_y\n",
    "#    g[i] /= max_y - min_y\n",
    "from statsmodels.tsa.seasonal import seasonal_decompose\n",
    "decomp = seasonal_decompose(g, model = 'additive', period = 12)\n",
    "trend = []\n",
    "for i in decomp.trend:\n",
    "    if not np.isnan(i):\n",
    "        trend.append(i)\n",
    "print(len(trend))"
   ]
  },
  {
   "cell_type": "code",
   "execution_count": 108,
   "metadata": {},
   "outputs": [
    {
     "data": {
      "text/plain": [
       "array([144317.03860176, 140844.2095499 , 167343.9417353 , ...,\n",
       "       412749.85790277, 413068.64880801, 412780.70131044])"
      ]
     },
     "execution_count": 108,
     "metadata": {},
     "output_type": "execute_result"
    }
   ],
   "source": [
    "def func (x):\n",
    "    y = (2.54*10**-4)*x**3 + (5.84*10**-2)*x**2 + (3.48 * 10)* x -(8.84 * 10)\n",
    "    return y\n",
    "g = func(np.array(g))\n",
    "g"
   ]
  },
  {
   "cell_type": "code",
   "execution_count": 109,
   "metadata": {},
   "outputs": [
    {
     "data": {
      "image/png": "[encoded data removed]",
      "text/plain": [
       "<Figure size 432x288 with 1 Axes>"
      ]
     },
     "metadata": {
      "needs_background": "light"
     },
     "output_type": "display_data"
    }
   ],
   "source": [
    "plt.plot(g)\n",
    "g.tofile('v_t.csv', sep = ',')"
   ]
  },
  {
   "cell_type": "code",
   "execution_count": 5,
   "metadata": {},
   "outputs": [],
   "source": [
    "def create_inout_sequences(input_data, tw = 180):\n",
    "    inout_seq = []\n",
    "    L = len(input_data)\n",
    "    for i in range(L-tw-tw):\n",
    "        train_seq = input_data[i:i+tw]\n",
    "        train_label = input_data[i+tw:i+tw+tw]\n",
    "        inout_seq.append((train_seq ,train_label))\n",
    "    return inout_seq\n",
    "train_inout_seq = create_inout_sequences(trend)"
   ]
  },
  {
   "cell_type": "code",
   "execution_count": 6,
   "metadata": {},
   "outputs": [
    {
     "data": {
      "text/plain": [
       "<torch._C.Generator at 0x7f87e8b06c30>"
      ]
     },
     "execution_count": 6,
     "metadata": {},
     "output_type": "execute_result"
    }
   ],
   "source": [
    "import torch.nn as nn\n",
    "from torch.nn import Sequential\n",
    "import torch as tr\n",
    "tr.manual_seed(0)"
   ]
  },
  {
   "cell_type": "code",
   "execution_count": 7,
   "metadata": {},
   "outputs": [],
   "source": [
    "class RNN(nn.Module):\n",
    "    def __init__(self, input_size):\n",
    "        super(RNN, self).__init__()\n",
    "        self.rnn = nn.LSTM(\n",
    "            input_size = input_size,\n",
    "            hidden_size = 128, #number of features coming out of the LSTM layer\n",
    "            num_layers = 2, #number of LSTM layers\n",
    "            batch_first = True,\n",
    "            dropout = 0.2\n",
    "            \n",
    "        )\n",
    "        self.out = nn.Sequential(\n",
    "            nn.Linear(128, 64),\n",
    "            nn.BatchNorm1d(1),\n",
    "            nn.ReLU(),\n",
    "            \n",
    "            nn.Linear(64, 32),\n",
    "            nn.BatchNorm1d(1),\n",
    "            nn.ReLU(),\n",
    "            \n",
    "            nn.Linear(32,input_size),\n",
    "            nn.Sigmoid()\n",
    "        )\n",
    "        \n",
    "    def forward(self, x):\n",
    "        r_out, (h_n, h_c) = self.rnn(x, None) #initial h and c is 0\n",
    "        out = self.out(r_out)\n",
    "        return out\n",
    "model = RNN(180)\n",
    "loss_function = nn.MSELoss()\n",
    "op = tr.optim.Adam(model.parameters(), lr=0.0001)\n",
    "#op_2 = tr.optim.Adam(model.parameters(), lr = 0.0001)"
   ]
  },
  {
   "cell_type": "code",
   "execution_count": 17,
   "metadata": {
    "scrolled": true
   },
   "outputs": [
    {
     "name": "stdout",
     "output_type": "stream",
     "text": [
      "Epoch 0 Loss: 0.073176 Test Loss: 0.073816\n",
      "Epoch 1 Loss: 0.058990 Test Loss: 0.059499\n",
      "Epoch 2 Loss: 0.064656 Test Loss: 0.065180\n",
      "Epoch 3 Loss: 0.057297 Test Loss: 0.057988\n",
      "Epoch 4 Loss: 0.054733 Test Loss: 0.055060\n",
      "Epoch 5 Loss: 0.058732 Test Loss: 0.059362\n",
      "Epoch 6 Loss: 0.059816 Test Loss: 0.060215\n",
      "Epoch 7 Loss: 0.072400 Test Loss: 0.073230\n",
      "Epoch 8 Loss: 0.059942 Test Loss: 0.060328\n",
      "Epoch 9 Loss: 0.056791 Test Loss: 0.056890\n",
      "Epoch 10 Loss: 0.085833 Test Loss: 0.086998\n",
      "Epoch 11 Loss: 0.077739 Test Loss: 0.078458\n",
      "Epoch 12 Loss: 0.062317 Test Loss: 0.062654\n",
      "Epoch 13 Loss: 0.065650 Test Loss: 0.066755\n",
      "Epoch 14 Loss: 0.064289 Test Loss: 0.065169\n",
      "Epoch 15 Loss: 0.051620 Test Loss: 0.051734\n",
      "Epoch 16 Loss: 0.037060 Test Loss: 0.037667\n",
      "Epoch 17 Loss: 0.028207 Test Loss: 0.028721\n",
      "Epoch 18 Loss: 0.022229 Test Loss: 0.022704\n",
      "Epoch 19 Loss: 0.018105 Test Loss: 0.019554\n",
      "Epoch 20 Loss: 0.014981 Test Loss: 0.015412\n",
      "Epoch 21 Loss: 0.012705 Test Loss: 0.013220\n",
      "Epoch 22 Loss: 0.011266 Test Loss: 0.011593\n",
      "Epoch 23 Loss: 0.009898 Test Loss: 0.010264\n",
      "Epoch 24 Loss: 0.008917 Test Loss: 0.009253\n",
      "Epoch 25 Loss: 0.008328 Test Loss: 0.008780\n",
      "Epoch 26 Loss: 0.007596 Test Loss: 0.008013\n",
      "Epoch 27 Loss: 0.006916 Test Loss: 0.007371\n",
      "Epoch 28 Loss: 0.006526 Test Loss: 0.006853\n",
      "Epoch 29 Loss: 0.006323 Test Loss: 0.006647\n",
      "Epoch 30 Loss: 0.005939 Test Loss: 0.006201\n",
      "Epoch 31 Loss: 0.005948 Test Loss: 0.006359\n",
      "Epoch 32 Loss: 0.005467 Test Loss: 0.005991\n",
      "Epoch 33 Loss: 0.005481 Test Loss: 0.005771\n",
      "Epoch 34 Loss: 0.005988 Test Loss: 0.005851\n",
      "Epoch 35 Loss: 0.005149 Test Loss: 0.005545\n",
      "Epoch 36 Loss: 0.005113 Test Loss: 0.005582\n",
      "Epoch 37 Loss: 0.004999 Test Loss: 0.005377\n",
      "Epoch 38 Loss: 0.004838 Test Loss: 0.005257\n",
      "Epoch 39 Loss: 0.004907 Test Loss: 0.005283\n",
      "Epoch 40 Loss: 0.005039 Test Loss: 0.005202\n",
      "Epoch 41 Loss: 0.005107 Test Loss: 0.005415\n",
      "Epoch 42 Loss: 0.004938 Test Loss: 0.005145\n",
      "Epoch 43 Loss: 0.004886 Test Loss: 0.005212\n",
      "Epoch 44 Loss: 0.005135 Test Loss: 0.005252\n",
      "Epoch 45 Loss: 0.004952 Test Loss: 0.005376\n",
      "Epoch 46 Loss: 0.005078 Test Loss: 0.005484\n",
      "Epoch 47 Loss: 0.004928 Test Loss: 0.005495\n",
      "Epoch 48 Loss: 0.004962 Test Loss: 0.005116\n",
      "Epoch 49 Loss: 0.004868 Test Loss: 0.005217\n",
      "Epoch 50 Loss: 0.005075 Test Loss: 0.005224\n",
      "Epoch 51 Loss: 0.005099 Test Loss: 0.005243\n",
      "Epoch 52 Loss: 0.005040 Test Loss: 0.005406\n",
      "Epoch 53 Loss: 0.004879 Test Loss: 0.005394\n",
      "Epoch 54 Loss: 0.004524 Test Loss: 0.004784\n",
      "Epoch 55 Loss: 0.006819 Test Loss: 0.006097\n",
      "Epoch 56 Loss: 0.010331 Test Loss: 0.008095\n",
      "Epoch 57 Loss: 0.005802 Test Loss: 0.005260\n",
      "Epoch 58 Loss: 0.004278 Test Loss: 0.004772\n",
      "Epoch 59 Loss: 0.006486 Test Loss: 0.005682\n",
      "Epoch 60 Loss: 0.004727 Test Loss: 0.004509\n",
      "Epoch 61 Loss: 0.009751 Test Loss: 0.004497\n",
      "Epoch 62 Loss: 0.005806 Test Loss: 0.004371\n",
      "Epoch 63 Loss: 0.004073 Test Loss: 0.004897\n",
      "Epoch 64 Loss: 0.005864 Test Loss: 0.006072\n",
      "Epoch 65 Loss: 0.004213 Test Loss: 0.005180\n",
      "Epoch 66 Loss: 0.004377 Test Loss: 0.005081\n",
      "Epoch 67 Loss: 0.008449 Test Loss: 0.005448\n",
      "Epoch 68 Loss: 0.014550 Test Loss: 0.006644\n",
      "Epoch 69 Loss: 0.013459 Test Loss: 0.008970\n",
      "Epoch 70 Loss: 0.004645 Test Loss: 0.004947\n",
      "Epoch 71 Loss: 0.009100 Test Loss: 0.005031\n",
      "Epoch 72 Loss: 0.004748 Test Loss: 0.005300\n",
      "Epoch 73 Loss: 0.004599 Test Loss: 0.004927\n",
      "Epoch 74 Loss: 0.004590 Test Loss: 0.005547\n",
      "Epoch 75 Loss: 0.004513 Test Loss: 0.005213\n",
      "Epoch 76 Loss: 0.004602 Test Loss: 0.005031\n",
      "Epoch 77 Loss: 0.005121 Test Loss: 0.005499\n",
      "Epoch 78 Loss: 0.005039 Test Loss: 0.005859\n",
      "Epoch 79 Loss: 0.014963 Test Loss: 0.009009\n",
      "Epoch 80 Loss: 0.007397 Test Loss: 0.005850\n",
      "Epoch 81 Loss: 0.006812 Test Loss: 0.006093\n",
      "Epoch 82 Loss: 0.148106 Test Loss: 0.009031\n",
      "Epoch 83 Loss: 0.006628 Test Loss: 0.138381\n",
      "Epoch 84 Loss: 0.009743 Test Loss: 0.005338\n",
      "Epoch 85 Loss: 0.188927 Test Loss: 0.057252\n",
      "Epoch 86 Loss: 0.005265 Test Loss: 0.004766\n",
      "Epoch 87 Loss: 0.003959 Test Loss: 0.004708\n",
      "Epoch 88 Loss: 0.006587 Test Loss: 0.038013\n",
      "Epoch 89 Loss: 0.003644 Test Loss: 0.004973\n",
      "Epoch 90 Loss: 0.013257 Test Loss: 0.066867\n",
      "Epoch 91 Loss: 0.004579 Test Loss: 0.003842\n",
      "Epoch 92 Loss: 0.003433 Test Loss: 0.003882\n",
      "Epoch 93 Loss: 0.003256 Test Loss: 0.004582\n",
      "Epoch 94 Loss: 0.003305 Test Loss: 0.003654\n",
      "Epoch 95 Loss: 0.007143 Test Loss: 0.011761\n",
      "Epoch 96 Loss: 0.003370 Test Loss: 0.003552\n",
      "Epoch 97 Loss: 0.003000 Test Loss: 0.007951\n",
      "Epoch 98 Loss: 0.002777 Test Loss: 0.005520\n",
      "Epoch 99 Loss: 0.002995 Test Loss: 0.003930\n",
      "Epoch 100 Loss: 0.003043 Test Loss: 0.003802\n",
      "Epoch 101 Loss: 0.002872 Test Loss: 0.004469\n",
      "Epoch 102 Loss: 0.003725 Test Loss: 0.003156\n",
      "Epoch 103 Loss: 0.002837 Test Loss: 0.024594\n",
      "Epoch 104 Loss: 0.003369 Test Loss: 0.002910\n",
      "Epoch 105 Loss: 0.003757 Test Loss: 0.019026\n",
      "Epoch 106 Loss: 0.002429 Test Loss: 0.003221\n",
      "Epoch 107 Loss: 0.002449 Test Loss: 0.002697\n",
      "Epoch 108 Loss: 0.002287 Test Loss: 0.003536\n",
      "Epoch 109 Loss: 0.003805 Test Loss: 0.003007\n",
      "Epoch 110 Loss: 0.002293 Test Loss: 0.003066\n",
      "Epoch 111 Loss: 0.002356 Test Loss: 0.002766\n",
      "Epoch 112 Loss: 0.002334 Test Loss: 0.002724\n",
      "Epoch 113 Loss: 0.005109 Test Loss: 0.003741\n",
      "Epoch 114 Loss: 0.002105 Test Loss: 0.002453\n",
      "Epoch 115 Loss: 0.002157 Test Loss: 0.002381\n",
      "Epoch 116 Loss: 0.002026 Test Loss: 0.003447\n",
      "Epoch 117 Loss: 0.001871 Test Loss: 0.002152\n",
      "Epoch 118 Loss: 0.001891 Test Loss: 0.002237\n",
      "Epoch 119 Loss: 0.001750 Test Loss: 0.002232\n",
      "Epoch 120 Loss: 0.001736 Test Loss: 0.002148\n",
      "Epoch 121 Loss: 0.001699 Test Loss: 0.002040\n",
      "Epoch 122 Loss: 0.013821 Test Loss: 0.002796\n",
      "Epoch 123 Loss: 0.001868 Test Loss: 0.002090\n",
      "Epoch 124 Loss: 0.001713 Test Loss: 0.004625\n",
      "Epoch 125 Loss: 0.002397 Test Loss: 0.002333\n",
      "Epoch 126 Loss: 0.002492 Test Loss: 0.001995\n",
      "Epoch 127 Loss: 0.003481 Test Loss: 0.002239\n",
      "Epoch 128 Loss: 0.024697 Test Loss: 0.002554\n",
      "Epoch 129 Loss: 0.001446 Test Loss: 0.001865\n",
      "Epoch 130 Loss: 0.001627 Test Loss: 0.002334\n",
      "Epoch 131 Loss: 0.001551 Test Loss: 0.003043\n",
      "Epoch 132 Loss: 0.002001 Test Loss: 0.002178\n",
      "Epoch 133 Loss: 0.001736 Test Loss: 0.001933\n",
      "Epoch 134 Loss: 0.001486 Test Loss: 0.002205\n",
      "Epoch 135 Loss: 0.001651 Test Loss: 0.002484\n",
      "Epoch 136 Loss: 0.001933 Test Loss: 0.002080\n",
      "Epoch 137 Loss: 0.001629 Test Loss: 0.020938\n",
      "Epoch 138 Loss: 0.001302 Test Loss: 0.001687\n",
      "Epoch 139 Loss: 0.001528 Test Loss: 0.001726\n",
      "Epoch 140 Loss: 0.001664 Test Loss: 0.003329\n",
      "Epoch 141 Loss: 0.001729 Test Loss: 0.003679\n",
      "Epoch 142 Loss: 0.001809 Test Loss: 0.002659\n",
      "Epoch 143 Loss: 0.001405 Test Loss: 0.003675\n",
      "Epoch 144 Loss: 0.001313 Test Loss: 0.002376\n",
      "Epoch 145 Loss: 0.001324 Test Loss: 0.001610\n",
      "Epoch 146 Loss: 0.001331 Test Loss: 0.001706\n",
      "Epoch 147 Loss: 0.001246 Test Loss: 0.001799\n",
      "Epoch 148 Loss: 0.002887 Test Loss: 0.001729\n",
      "Epoch 149 Loss: 0.001160 Test Loss: 0.001488\n",
      "Epoch 150 Loss: 0.001377 Test Loss: 0.001477\n",
      "Epoch 151 Loss: 0.001145 Test Loss: 0.001953\n",
      "Epoch 152 Loss: 0.001450 Test Loss: 0.001486\n",
      "Epoch 153 Loss: 0.001662 Test Loss: 0.001768\n",
      "Epoch 154 Loss: 0.001090 Test Loss: 0.001426\n",
      "Epoch 155 Loss: 0.001016 Test Loss: 0.001321\n",
      "Epoch 156 Loss: 0.001145 Test Loss: 0.001435\n",
      "Epoch 157 Loss: 0.001033 Test Loss: 0.001320\n",
      "Epoch 158 Loss: 0.001048 Test Loss: 0.001838\n",
      "Epoch 159 Loss: 0.001238 Test Loss: 0.001840\n",
      "Epoch 160 Loss: 0.001592 Test Loss: 0.002031\n",
      "Epoch 161 Loss: 0.000937 Test Loss: 0.001204\n",
      "Epoch 162 Loss: 0.001022 Test Loss: 0.001465\n",
      "Epoch 163 Loss: 0.001008 Test Loss: 0.001419\n",
      "Epoch 164 Loss: 0.001002 Test Loss: 0.001494\n",
      "Epoch 165 Loss: 0.001060 Test Loss: 0.001294\n",
      "Epoch 166 Loss: 0.000985 Test Loss: 0.001476\n",
      "Epoch 167 Loss: 0.000892 Test Loss: 0.001553\n",
      "Epoch 168 Loss: 0.003707 Test Loss: 0.001791\n",
      "Epoch 169 Loss: 0.001072 Test Loss: 0.001326\n",
      "Epoch 170 Loss: 0.000847 Test Loss: 0.001587\n",
      "Epoch 171 Loss: 0.000817 Test Loss: 0.001356\n",
      "Epoch 172 Loss: 0.000736 Test Loss: 0.001018\n",
      "Epoch 173 Loss: 0.001098 Test Loss: 0.001007\n",
      "Epoch 174 Loss: 0.000895 Test Loss: 0.000988\n",
      "Epoch 175 Loss: 0.000777 Test Loss: 0.001148\n",
      "Epoch 176 Loss: 0.000863 Test Loss: 0.000996\n",
      "Epoch 177 Loss: 0.000865 Test Loss: 0.001445\n",
      "Epoch 178 Loss: 0.000757 Test Loss: 0.000996\n",
      "Epoch 179 Loss: 0.000710 Test Loss: 0.000945\n",
      "Epoch 180 Loss: 0.000660 Test Loss: 0.001021\n",
      "Epoch 181 Loss: 0.000722 Test Loss: 0.000988\n",
      "Epoch 182 Loss: 0.000722 Test Loss: 0.003139\n",
      "Epoch 183 Loss: 0.000627 Test Loss: 0.001045\n",
      "Epoch 184 Loss: 0.000638 Test Loss: 0.000893\n"
     ]
    },
    {
     "name": "stdout",
     "output_type": "stream",
     "text": [
      "Epoch 185 Loss: 0.000723 Test Loss: 0.000980\n",
      "Epoch 186 Loss: 0.000589 Test Loss: 0.000893\n",
      "Epoch 187 Loss: 0.000645 Test Loss: 0.000972\n",
      "Epoch 188 Loss: 0.000557 Test Loss: 0.001066\n",
      "Epoch 189 Loss: 0.000806 Test Loss: 0.000994\n",
      "Epoch 190 Loss: 0.000975 Test Loss: 0.001075\n",
      "Epoch 191 Loss: 0.000579 Test Loss: 0.001106\n",
      "Epoch 192 Loss: 0.000993 Test Loss: 0.000792\n",
      "Epoch 193 Loss: 0.000558 Test Loss: 0.000781\n",
      "Epoch 194 Loss: 0.000812 Test Loss: 0.001722\n",
      "Epoch 195 Loss: 0.000662 Test Loss: 0.001093\n",
      "Epoch 196 Loss: 0.001817 Test Loss: 0.001034\n",
      "Epoch 197 Loss: 0.000627 Test Loss: 0.000785\n",
      "Epoch 198 Loss: 0.000846 Test Loss: 0.000769\n",
      "Epoch 199 Loss: 0.000545 Test Loss: 0.000762\n",
      "Epoch 200 Loss: 0.000517 Test Loss: 0.000793\n",
      "Epoch 201 Loss: 0.000575 Test Loss: 0.001583\n",
      "Epoch 202 Loss: 0.000527 Test Loss: 0.000781\n",
      "Epoch 203 Loss: 0.000721 Test Loss: 0.000731\n",
      "Epoch 204 Loss: 0.000507 Test Loss: 0.000699\n",
      "Epoch 205 Loss: 0.000554 Test Loss: 0.000707\n",
      "Epoch 206 Loss: 0.000636 Test Loss: 0.000735\n",
      "Epoch 207 Loss: 0.003325 Test Loss: 0.000831\n",
      "Epoch 208 Loss: 0.006358 Test Loss: 0.001191\n",
      "Epoch 209 Loss: 0.000750 Test Loss: 0.000805\n",
      "Epoch 210 Loss: 0.000550 Test Loss: 0.000692\n",
      "Epoch 211 Loss: 0.000508 Test Loss: 0.000895\n",
      "Epoch 212 Loss: 0.000532 Test Loss: 0.000821\n",
      "Epoch 213 Loss: 0.000635 Test Loss: 0.000713\n",
      "Epoch 214 Loss: 0.000528 Test Loss: 0.000677\n",
      "Epoch 215 Loss: 0.000502 Test Loss: 0.000880\n",
      "Epoch 216 Loss: 0.000520 Test Loss: 0.000679\n",
      "Epoch 217 Loss: 0.000513 Test Loss: 0.000765\n",
      "Epoch 218 Loss: 0.000511 Test Loss: 0.000722\n",
      "Epoch 219 Loss: 0.000606 Test Loss: 0.000761\n",
      "Epoch 220 Loss: 0.000492 Test Loss: 0.000668\n",
      "Epoch 221 Loss: 0.000558 Test Loss: 0.000667\n",
      "Epoch 222 Loss: 0.000520 Test Loss: 0.000636\n",
      "Epoch 223 Loss: 0.000730 Test Loss: 0.001573\n",
      "Epoch 224 Loss: 0.000565 Test Loss: 0.000606\n",
      "Epoch 225 Loss: 0.000473 Test Loss: 0.000717\n",
      "Epoch 226 Loss: 0.000403 Test Loss: 0.000628\n",
      "Epoch 227 Loss: 0.000555 Test Loss: 0.000766\n",
      "Epoch 228 Loss: 0.000474 Test Loss: 0.000778\n",
      "Epoch 229 Loss: 0.000953 Test Loss: 0.000723\n",
      "Epoch 230 Loss: 0.000413 Test Loss: 0.000660\n",
      "Epoch 231 Loss: 0.000513 Test Loss: 0.000783\n",
      "Epoch 232 Loss: 0.000503 Test Loss: 0.000680\n",
      "Epoch 233 Loss: 0.000457 Test Loss: 0.000648\n",
      "Epoch 234 Loss: 0.000553 Test Loss: 0.000621\n",
      "Epoch 235 Loss: 0.000532 Test Loss: 0.000808\n",
      "Epoch 236 Loss: 0.000702 Test Loss: 0.000645\n",
      "Epoch 237 Loss: 0.000446 Test Loss: 0.000652\n",
      "Epoch 238 Loss: 0.000433 Test Loss: 0.000646\n",
      "Epoch 239 Loss: 0.000417 Test Loss: 0.000692\n",
      "Epoch 240 Loss: 0.000399 Test Loss: 0.000600\n",
      "Epoch 241 Loss: 0.000438 Test Loss: 0.000617\n",
      "Epoch 242 Loss: 0.000520 Test Loss: 0.000681\n",
      "Epoch 243 Loss: 0.000472 Test Loss: 0.000607\n",
      "Epoch 244 Loss: 0.000458 Test Loss: 0.000913\n",
      "Epoch 245 Loss: 0.000417 Test Loss: 0.000589\n",
      "Epoch 246 Loss: 0.000475 Test Loss: 0.000673\n",
      "Epoch 247 Loss: 0.000643 Test Loss: 0.001113\n",
      "Epoch 248 Loss: 0.000573 Test Loss: 0.000607\n",
      "Epoch 249 Loss: 0.000385 Test Loss: 0.000668\n",
      "Epoch 250 Loss: 0.000531 Test Loss: 0.000825\n",
      "Epoch 251 Loss: 0.000520 Test Loss: 0.000635\n",
      "Epoch 252 Loss: 0.000467 Test Loss: 0.000837\n",
      "Epoch 253 Loss: 0.000387 Test Loss: 0.000627\n",
      "Epoch 254 Loss: 0.000421 Test Loss: 0.000594\n",
      "Epoch 255 Loss: 0.000558 Test Loss: 0.000800\n",
      "Epoch 256 Loss: 0.000548 Test Loss: 0.001118\n",
      "Epoch 257 Loss: 0.000549 Test Loss: 0.000970\n",
      "Epoch 258 Loss: 0.000662 Test Loss: 0.000647\n",
      "Epoch 259 Loss: 0.000522 Test Loss: 0.000915\n",
      "Epoch 260 Loss: 0.000351 Test Loss: 0.000640\n",
      "Epoch 261 Loss: 0.000432 Test Loss: 0.000709\n",
      "Epoch 262 Loss: 0.000403 Test Loss: 0.000590\n",
      "Epoch 263 Loss: 0.000424 Test Loss: 0.000583\n",
      "Epoch 264 Loss: 0.000378 Test Loss: 0.000622\n",
      "Epoch 265 Loss: 0.000409 Test Loss: 0.024070\n",
      "Epoch 266 Loss: 0.000538 Test Loss: 0.000778\n",
      "Epoch 267 Loss: 0.002273 Test Loss: 0.000613\n",
      "Epoch 268 Loss: 0.000484 Test Loss: 0.000557\n",
      "Epoch 269 Loss: 0.000437 Test Loss: 0.000692\n",
      "Epoch 270 Loss: 0.000482 Test Loss: 0.000551\n",
      "Epoch 271 Loss: 0.000347 Test Loss: 0.000541\n",
      "Epoch 272 Loss: 0.000588 Test Loss: 0.000773\n",
      "Epoch 273 Loss: 0.000375 Test Loss: 0.000589\n",
      "Epoch 274 Loss: 0.000435 Test Loss: 0.000580\n",
      "Epoch 275 Loss: 0.000404 Test Loss: 0.000606\n",
      "Epoch 276 Loss: 0.000954 Test Loss: 0.000553\n",
      "Epoch 277 Loss: 0.000394 Test Loss: 0.000541\n",
      "Epoch 278 Loss: 0.000396 Test Loss: 0.000553\n",
      "Epoch 279 Loss: 0.000355 Test Loss: 0.000514\n",
      "Epoch 280 Loss: 0.000318 Test Loss: 0.000546\n",
      "Epoch 281 Loss: 0.000432 Test Loss: 0.000688\n",
      "Epoch 282 Loss: 0.000450 Test Loss: 0.000691\n",
      "Epoch 283 Loss: 0.000337 Test Loss: 0.000515\n",
      "Epoch 284 Loss: 0.000449 Test Loss: 0.000637\n",
      "Epoch 285 Loss: 0.000556 Test Loss: 0.000610\n",
      "Epoch 286 Loss: 0.000362 Test Loss: 0.000809\n",
      "Epoch 287 Loss: 0.015389 Test Loss: 0.000932\n",
      "Epoch 288 Loss: 0.000568 Test Loss: 0.000618\n",
      "Epoch 289 Loss: 0.000434 Test Loss: 0.000556\n",
      "Epoch 290 Loss: 0.000435 Test Loss: 0.000585\n",
      "Epoch 291 Loss: 0.000345 Test Loss: 0.000531\n",
      "Epoch 292 Loss: 0.000494 Test Loss: 0.000576\n",
      "Epoch 293 Loss: 0.000480 Test Loss: 0.000628\n",
      "Epoch 294 Loss: 0.000382 Test Loss: 0.000519\n",
      "Epoch 295 Loss: 0.000436 Test Loss: 0.000623\n",
      "Epoch 296 Loss: 0.000337 Test Loss: 0.000508\n",
      "Epoch 297 Loss: 0.000633 Test Loss: 0.000529\n",
      "Epoch 298 Loss: 0.000339 Test Loss: 0.000516\n",
      "Epoch 299 Loss: 0.000478 Test Loss: 0.000517\n",
      "Epoch 300 Loss: 0.000402 Test Loss: 0.000814\n",
      "Epoch 301 Loss: 0.000339 Test Loss: 0.001069\n",
      "Epoch 302 Loss: 0.000409 Test Loss: 0.000522\n",
      "Epoch 303 Loss: 0.000623 Test Loss: 0.000956\n",
      "Epoch 304 Loss: 0.000304 Test Loss: 0.000682\n",
      "Epoch 305 Loss: 0.000345 Test Loss: 0.000617\n",
      "Epoch 306 Loss: 0.000435 Test Loss: 0.000636\n",
      "Epoch 307 Loss: 0.011167 Test Loss: 0.000513\n",
      "Epoch 308 Loss: 0.000484 Test Loss: 0.000607\n",
      "Epoch 309 Loss: 0.000375 Test Loss: 0.001273\n",
      "Epoch 310 Loss: 0.001044 Test Loss: 0.004052\n",
      "Epoch 311 Loss: 0.000521 Test Loss: 0.000551\n",
      "Epoch 312 Loss: 0.000624 Test Loss: 0.001527\n",
      "Epoch 313 Loss: 0.000780 Test Loss: 0.000563\n",
      "Epoch 314 Loss: 0.000332 Test Loss: 0.000668\n",
      "Epoch 315 Loss: 0.000383 Test Loss: 0.000522\n",
      "Epoch 316 Loss: 0.000337 Test Loss: 0.000496\n",
      "Epoch 317 Loss: 0.000320 Test Loss: 0.000615\n",
      "Epoch 318 Loss: 0.000467 Test Loss: 0.000743\n",
      "Epoch 319 Loss: 0.000389 Test Loss: 0.000744\n",
      "Epoch 320 Loss: 0.000687 Test Loss: 0.000424\n",
      "Epoch 321 Loss: 0.000302 Test Loss: 0.001120\n",
      "Epoch 322 Loss: 0.000393 Test Loss: 0.000579\n",
      "Epoch 323 Loss: 0.000310 Test Loss: 0.000692\n",
      "Epoch 324 Loss: 0.000401 Test Loss: 0.000559\n",
      "Epoch 325 Loss: 0.000334 Test Loss: 0.000499\n",
      "Epoch 326 Loss: 0.000284 Test Loss: 0.000642\n",
      "Epoch 327 Loss: 0.000305 Test Loss: 0.000679\n",
      "Epoch 328 Loss: 0.000584 Test Loss: 0.000471\n",
      "Epoch 329 Loss: 0.000359 Test Loss: 0.000519\n",
      "Epoch 330 Loss: 0.000298 Test Loss: 0.000562\n",
      "Epoch 331 Loss: 0.000341 Test Loss: 0.000630\n",
      "Epoch 332 Loss: 0.000397 Test Loss: 0.000536\n",
      "Epoch 333 Loss: 0.000301 Test Loss: 0.000463\n",
      "Epoch 334 Loss: 0.000348 Test Loss: 0.000584\n",
      "Epoch 335 Loss: 0.000423 Test Loss: 0.000983\n",
      "Epoch 336 Loss: 0.000492 Test Loss: 0.000548\n",
      "Epoch 337 Loss: 0.000293 Test Loss: 0.000540\n",
      "Epoch 338 Loss: 0.000299 Test Loss: 0.000496\n",
      "Epoch 339 Loss: 0.000272 Test Loss: 0.000502\n",
      "Epoch 340 Loss: 0.001167 Test Loss: 0.000495\n",
      "Epoch 341 Loss: 0.000313 Test Loss: 0.000473\n",
      "Epoch 342 Loss: 0.000575 Test Loss: 0.000456\n",
      "Epoch 343 Loss: 0.000475 Test Loss: 0.000531\n",
      "Epoch 344 Loss: 0.094937 Test Loss: 0.000440\n",
      "Epoch 345 Loss: 0.000442 Test Loss: 0.000767\n",
      "Epoch 346 Loss: 0.000557 Test Loss: 0.000677\n",
      "Epoch 347 Loss: 0.000306 Test Loss: 0.000456\n",
      "Epoch 348 Loss: 0.000624 Test Loss: 0.000462\n",
      "Epoch 349 Loss: 0.000351 Test Loss: 0.000639\n",
      "Epoch 350 Loss: 0.000357 Test Loss: 0.000575\n",
      "Epoch 351 Loss: 0.001033 Test Loss: 0.000473\n",
      "Epoch 352 Loss: 0.000666 Test Loss: 0.000756\n",
      "Epoch 353 Loss: 0.000461 Test Loss: 0.000894\n",
      "Epoch 354 Loss: 0.000353 Test Loss: 0.000565\n",
      "Epoch 355 Loss: 0.000318 Test Loss: 0.000476\n",
      "Epoch 356 Loss: 0.000367 Test Loss: 0.000914\n",
      "Epoch 357 Loss: 0.000398 Test Loss: 0.000662\n",
      "Epoch 358 Loss: 0.000477 Test Loss: 0.000591\n",
      "Epoch 359 Loss: 0.000367 Test Loss: 0.000605\n",
      "Epoch 360 Loss: 0.000317 Test Loss: 0.000561\n",
      "Epoch 361 Loss: 0.000425 Test Loss: 0.000661\n",
      "Epoch 362 Loss: 0.000288 Test Loss: 0.000494\n",
      "Epoch 363 Loss: 0.000286 Test Loss: 0.000609\n",
      "Epoch 364 Loss: 0.000589 Test Loss: 0.000514\n",
      "Epoch 365 Loss: 0.000327 Test Loss: 0.000576\n",
      "Epoch 366 Loss: 0.000355 Test Loss: 0.000500\n",
      "Epoch 367 Loss: 0.000315 Test Loss: 0.000437\n"
     ]
    },
    {
     "name": "stdout",
     "output_type": "stream",
     "text": [
      "Epoch 368 Loss: 0.000312 Test Loss: 0.000456\n",
      "Epoch 369 Loss: 0.000325 Test Loss: 0.000429\n",
      "Epoch 370 Loss: 0.000353 Test Loss: 0.000493\n",
      "Epoch 371 Loss: 0.000328 Test Loss: 0.000600\n",
      "Epoch 372 Loss: 0.000434 Test Loss: 0.000470\n",
      "Epoch 373 Loss: 0.000383 Test Loss: 0.000538\n",
      "Epoch 374 Loss: 0.000459 Test Loss: 0.000959\n",
      "Epoch 375 Loss: 0.000273 Test Loss: 0.000578\n",
      "Epoch 376 Loss: 0.000333 Test Loss: 0.000537\n",
      "Epoch 377 Loss: 0.000865 Test Loss: 0.000419\n",
      "Epoch 378 Loss: 0.000337 Test Loss: 0.000531\n",
      "Epoch 379 Loss: 0.000296 Test Loss: 0.000508\n",
      "Epoch 380 Loss: 0.000799 Test Loss: 0.010779\n",
      "Epoch 381 Loss: 0.000378 Test Loss: 0.000465\n",
      "Epoch 382 Loss: 0.000286 Test Loss: 0.000417\n",
      "Epoch 383 Loss: 0.000303 Test Loss: 0.000575\n",
      "Epoch 384 Loss: 0.000280 Test Loss: 0.000444\n",
      "Epoch 385 Loss: 0.000625 Test Loss: 0.000455\n",
      "Epoch 386 Loss: 0.000311 Test Loss: 0.000453\n",
      "Epoch 387 Loss: 0.000524 Test Loss: 0.000458\n",
      "Epoch 388 Loss: 0.000274 Test Loss: 0.000424\n",
      "Epoch 389 Loss: 0.000298 Test Loss: 0.000491\n",
      "Epoch 390 Loss: 0.000295 Test Loss: 0.000741\n",
      "Epoch 391 Loss: 0.000280 Test Loss: 0.000482\n",
      "Epoch 392 Loss: 0.000356 Test Loss: 0.000622\n",
      "Epoch 393 Loss: 0.000525 Test Loss: 0.000441\n",
      "Epoch 394 Loss: 0.000486 Test Loss: 0.000537\n",
      "Epoch 395 Loss: 0.000290 Test Loss: 0.000456\n",
      "Epoch 396 Loss: 0.000312 Test Loss: 0.000449\n",
      "Epoch 397 Loss: 0.000296 Test Loss: 0.000545\n",
      "Epoch 398 Loss: 0.000348 Test Loss: 0.000527\n",
      "Epoch 399 Loss: 0.000868 Test Loss: 0.000516\n",
      "Epoch 400 Loss: 0.000315 Test Loss: 0.000489\n",
      "Epoch 401 Loss: 0.000465 Test Loss: 0.000858\n",
      "Epoch 402 Loss: 0.000379 Test Loss: 0.000476\n",
      "Epoch 403 Loss: 0.001317 Test Loss: 0.000513\n",
      "Epoch 404 Loss: 0.000319 Test Loss: 0.000515\n",
      "Epoch 405 Loss: 0.000313 Test Loss: 0.000525\n",
      "Epoch 406 Loss: 0.000268 Test Loss: 0.000433\n",
      "Epoch 407 Loss: 0.000435 Test Loss: 0.000472\n",
      "Epoch 408 Loss: 0.000269 Test Loss: 0.000591\n",
      "Epoch 409 Loss: 0.000401 Test Loss: 0.000756\n",
      "Epoch 410 Loss: 0.000340 Test Loss: 0.000525\n",
      "Epoch 411 Loss: 0.000321 Test Loss: 0.000475\n",
      "Epoch 412 Loss: 0.000296 Test Loss: 0.000745\n",
      "Epoch 413 Loss: 0.000463 Test Loss: 0.000916\n",
      "Epoch 414 Loss: 0.000773 Test Loss: 0.000460\n",
      "Epoch 415 Loss: 0.000352 Test Loss: 0.000518\n",
      "Epoch 416 Loss: 0.000305 Test Loss: 0.004892\n",
      "Epoch 417 Loss: 0.000619 Test Loss: 0.000495\n",
      "Epoch 418 Loss: 0.000324 Test Loss: 0.000459\n",
      "Epoch 419 Loss: 0.000758 Test Loss: 0.000509\n",
      "Epoch 420 Loss: 0.000309 Test Loss: 0.000510\n",
      "Epoch 421 Loss: 0.000308 Test Loss: 0.000441\n",
      "Epoch 422 Loss: 0.000358 Test Loss: 0.000473\n",
      "Epoch 423 Loss: 0.000553 Test Loss: 0.000762\n",
      "Epoch 424 Loss: 0.000303 Test Loss: 0.000446\n",
      "Epoch 425 Loss: 0.000307 Test Loss: 0.000448\n",
      "Epoch 426 Loss: 0.000322 Test Loss: 0.000458\n",
      "Epoch 427 Loss: 0.000372 Test Loss: 0.000510\n",
      "Epoch 428 Loss: 0.000258 Test Loss: 0.000391\n",
      "Epoch 429 Loss: 0.000305 Test Loss: 0.000424\n",
      "Epoch 430 Loss: 0.000396 Test Loss: 0.000445\n",
      "Epoch 431 Loss: 0.000294 Test Loss: 0.000500\n",
      "Epoch 432 Loss: 0.000283 Test Loss: 0.000515\n",
      "Epoch 433 Loss: 0.000371 Test Loss: 0.000457\n",
      "Epoch 434 Loss: 0.000447 Test Loss: 0.000569\n",
      "Epoch 435 Loss: 0.000625 Test Loss: 0.000719\n",
      "Epoch 436 Loss: 0.000353 Test Loss: 0.000464\n",
      "Epoch 437 Loss: 0.000283 Test Loss: 0.000689\n",
      "Epoch 438 Loss: 0.000281 Test Loss: 0.000565\n",
      "Epoch 439 Loss: 0.000326 Test Loss: 0.000575\n",
      "Epoch 440 Loss: 0.000391 Test Loss: 0.000575\n",
      "Epoch 441 Loss: 0.000286 Test Loss: 0.000419\n",
      "Epoch 442 Loss: 0.000316 Test Loss: 0.000463\n",
      "Epoch 443 Loss: 0.000324 Test Loss: 0.000486\n",
      "Epoch 444 Loss: 0.000392 Test Loss: 0.000464\n",
      "Epoch 445 Loss: 0.000331 Test Loss: 0.000704\n",
      "Epoch 446 Loss: 0.000436 Test Loss: 0.000443\n",
      "Epoch 447 Loss: 0.000305 Test Loss: 0.000616\n",
      "Epoch 448 Loss: 0.000433 Test Loss: 0.000491\n",
      "Epoch 449 Loss: 0.000274 Test Loss: 0.000458\n",
      "Epoch 450 Loss: 0.000277 Test Loss: 0.000459\n",
      "Epoch 451 Loss: 0.000457 Test Loss: 0.000698\n",
      "Epoch 452 Loss: 0.000610 Test Loss: 0.000939\n",
      "Epoch 453 Loss: 0.000371 Test Loss: 0.000612\n",
      "Epoch 454 Loss: 0.000323 Test Loss: 0.010760\n",
      "Epoch 455 Loss: 0.000510 Test Loss: 0.000560\n",
      "Epoch 456 Loss: 0.000330 Test Loss: 0.000562\n",
      "Epoch 457 Loss: 0.000520 Test Loss: 0.000900\n",
      "Epoch 458 Loss: 0.000370 Test Loss: 0.000456\n",
      "Epoch 459 Loss: 0.000293 Test Loss: 0.000503\n",
      "Epoch 460 Loss: 0.000303 Test Loss: 0.000628\n",
      "Epoch 461 Loss: 0.000457 Test Loss: 0.000436\n",
      "Epoch 462 Loss: 0.000651 Test Loss: 0.000579\n",
      "Epoch 463 Loss: 0.000367 Test Loss: 0.000445\n",
      "Epoch 464 Loss: 0.000789 Test Loss: 0.000447\n",
      "Epoch 465 Loss: 0.000510 Test Loss: 0.000481\n",
      "Epoch 466 Loss: 0.000258 Test Loss: 0.000459\n",
      "Epoch 467 Loss: 0.000349 Test Loss: 0.000417\n",
      "Epoch 468 Loss: 0.000298 Test Loss: 0.000513\n",
      "Epoch 469 Loss: 0.000354 Test Loss: 0.000820\n",
      "Epoch 470 Loss: 0.003793 Test Loss: 0.000633\n",
      "Epoch 471 Loss: 0.000280 Test Loss: 0.000551\n",
      "Epoch 472 Loss: 0.000398 Test Loss: 0.000456\n",
      "Epoch 473 Loss: 0.000446 Test Loss: 0.000980\n",
      "Epoch 474 Loss: 0.000317 Test Loss: 0.000558\n",
      "Epoch 475 Loss: 0.000275 Test Loss: 0.000440\n",
      "Epoch 476 Loss: 0.000846 Test Loss: 0.000543\n",
      "Epoch 477 Loss: 0.000315 Test Loss: 0.000484\n",
      "Epoch 478 Loss: 0.000295 Test Loss: 0.000479\n",
      "Epoch 479 Loss: 0.000416 Test Loss: 0.000438\n",
      "Epoch 480 Loss: 0.000324 Test Loss: 0.000608\n",
      "Epoch 481 Loss: 0.000270 Test Loss: 0.000451\n",
      "Epoch 482 Loss: 0.000640 Test Loss: 0.000778\n",
      "Epoch 483 Loss: 0.000321 Test Loss: 0.000487\n",
      "Epoch 484 Loss: 0.000312 Test Loss: 0.000588\n",
      "Epoch 485 Loss: 0.000368 Test Loss: 0.000881\n",
      "Epoch 486 Loss: 0.000444 Test Loss: 0.000468\n",
      "Epoch 487 Loss: 0.000412 Test Loss: 0.000666\n",
      "Epoch 488 Loss: 0.000286 Test Loss: 0.000479\n",
      "Epoch 489 Loss: 0.000266 Test Loss: 0.001173\n",
      "Epoch 490 Loss: 0.000328 Test Loss: 0.000422\n",
      "Epoch 491 Loss: 0.000284 Test Loss: 0.000524\n",
      "Epoch 492 Loss: 0.000350 Test Loss: 0.000474\n",
      "Epoch 493 Loss: 0.000304 Test Loss: 0.000546\n",
      "Epoch 494 Loss: 0.000441 Test Loss: 0.000413\n",
      "Epoch 495 Loss: 0.000418 Test Loss: 0.000461\n",
      "Epoch 496 Loss: 0.000286 Test Loss: 0.000457\n",
      "Epoch 497 Loss: 0.000382 Test Loss: 0.002530\n",
      "Epoch 498 Loss: 0.000293 Test Loss: 0.000727\n",
      "Epoch 499 Loss: 0.000453 Test Loss: 0.000553\n",
      "Epoch 500 Loss: 0.000403 Test Loss: 0.000474\n",
      "Epoch 501 Loss: 0.000528 Test Loss: 0.000408\n",
      "Epoch 502 Loss: 0.000322 Test Loss: 0.000679\n",
      "Epoch 503 Loss: 0.025061 Test Loss: 0.000430\n",
      "Epoch 504 Loss: 0.000572 Test Loss: 0.000455\n",
      "Epoch 505 Loss: 0.000594 Test Loss: 0.163548\n",
      "Epoch 506 Loss: 0.000392 Test Loss: 0.010586\n",
      "Epoch 507 Loss: 0.000439 Test Loss: 0.000698\n",
      "Epoch 508 Loss: 0.000279 Test Loss: 0.000521\n",
      "Epoch 509 Loss: 0.000722 Test Loss: 0.000936\n",
      "Epoch 510 Loss: 0.000350 Test Loss: 0.000481\n",
      "Epoch 511 Loss: 0.000321 Test Loss: 0.000474\n",
      "Epoch 512 Loss: 0.000337 Test Loss: 0.000974\n",
      "Epoch 513 Loss: 0.000339 Test Loss: 0.000456\n",
      "Epoch 514 Loss: 0.000294 Test Loss: 0.000462\n",
      "Epoch 515 Loss: 0.000293 Test Loss: 0.000450\n",
      "Epoch 516 Loss: 0.000362 Test Loss: 0.000888\n",
      "Epoch 517 Loss: 0.000370 Test Loss: 0.000909\n",
      "Epoch 518 Loss: 0.000504 Test Loss: 0.000484\n",
      "Epoch 519 Loss: 0.000773 Test Loss: 0.000448\n",
      "Epoch 520 Loss: 0.000390 Test Loss: 0.000572\n",
      "Epoch 521 Loss: 0.001095 Test Loss: 0.004849\n",
      "Epoch 522 Loss: 0.000313 Test Loss: 0.000654\n",
      "Epoch 523 Loss: 0.000361 Test Loss: 0.000541\n",
      "Epoch 524 Loss: 0.000518 Test Loss: 0.000761\n",
      "Epoch 525 Loss: 0.000433 Test Loss: 0.000432\n",
      "Epoch 526 Loss: 0.000329 Test Loss: 0.000655\n",
      "Epoch 527 Loss: 0.013443 Test Loss: 0.000539\n",
      "Epoch 528 Loss: 0.000467 Test Loss: 0.000789\n",
      "Epoch 529 Loss: 0.000421 Test Loss: 0.000594\n",
      "Epoch 530 Loss: 0.000335 Test Loss: 0.000605\n",
      "Epoch 531 Loss: 0.000408 Test Loss: 0.000739\n",
      "Epoch 532 Loss: 0.000381 Test Loss: 0.000590\n",
      "Epoch 533 Loss: 0.000623 Test Loss: 0.000515\n",
      "Epoch 534 Loss: 0.000354 Test Loss: 0.000447\n",
      "Epoch 535 Loss: 0.000295 Test Loss: 0.000383\n",
      "Epoch 536 Loss: 0.000394 Test Loss: 0.000821\n",
      "Epoch 537 Loss: 0.000256 Test Loss: 0.000457\n",
      "Epoch 538 Loss: 0.000298 Test Loss: 0.000501\n",
      "Epoch 539 Loss: 0.000252 Test Loss: 0.000594\n",
      "Epoch 540 Loss: 0.000319 Test Loss: 0.000479\n",
      "Epoch 541 Loss: 0.000254 Test Loss: 0.000437\n",
      "Epoch 542 Loss: 0.000465 Test Loss: 0.000464\n",
      "Epoch 543 Loss: 0.000268 Test Loss: 0.000656\n",
      "Epoch 544 Loss: 0.000388 Test Loss: 0.000713\n",
      "Epoch 545 Loss: 0.000276 Test Loss: 0.000539\n",
      "Epoch 546 Loss: 0.000352 Test Loss: 0.000526\n",
      "Epoch 547 Loss: 0.000318 Test Loss: 0.000854\n",
      "Epoch 548 Loss: 0.000269 Test Loss: 0.000551\n",
      "Epoch 549 Loss: 0.000419 Test Loss: 0.000583\n",
      "Epoch 550 Loss: 0.000369 Test Loss: 0.000525\n"
     ]
    },
    {
     "name": "stdout",
     "output_type": "stream",
     "text": [
      "Epoch 551 Loss: 0.000290 Test Loss: 0.000473\n",
      "Epoch 552 Loss: 0.000445 Test Loss: 0.000539\n",
      "Epoch 553 Loss: 0.000366 Test Loss: 0.000403\n",
      "Epoch 554 Loss: 0.000534 Test Loss: 0.000571\n",
      "Epoch 555 Loss: 0.003060 Test Loss: 0.000597\n",
      "Epoch 556 Loss: 0.000318 Test Loss: 0.000402\n",
      "Epoch 557 Loss: 0.000273 Test Loss: 0.000483\n",
      "Epoch 558 Loss: 0.000280 Test Loss: 0.000418\n",
      "Epoch 559 Loss: 0.000356 Test Loss: 0.000448\n",
      "Epoch 560 Loss: 0.000262 Test Loss: 0.000413\n",
      "Epoch 561 Loss: 0.000251 Test Loss: 0.000410\n",
      "Epoch 562 Loss: 0.000258 Test Loss: 0.000529\n",
      "Epoch 563 Loss: 0.000250 Test Loss: 0.000384\n",
      "Epoch 564 Loss: 0.000441 Test Loss: 0.000580\n",
      "Epoch 565 Loss: 0.000329 Test Loss: 0.000444\n",
      "Epoch 566 Loss: 0.000260 Test Loss: 0.000481\n",
      "Epoch 567 Loss: 0.000279 Test Loss: 0.000416\n",
      "Epoch 568 Loss: 0.000299 Test Loss: 0.000500\n",
      "Epoch 569 Loss: 0.000330 Test Loss: 0.000419\n",
      "Epoch 570 Loss: 0.000370 Test Loss: 0.000421\n",
      "Epoch 571 Loss: 0.000321 Test Loss: 0.000398\n",
      "Epoch 572 Loss: 0.000534 Test Loss: 0.000465\n",
      "Epoch 573 Loss: 0.000450 Test Loss: 0.000593\n",
      "Epoch 574 Loss: 0.000386 Test Loss: 0.000629\n",
      "Epoch 575 Loss: 0.001005 Test Loss: 0.000436\n",
      "Epoch 576 Loss: 0.000519 Test Loss: 0.000421\n",
      "Epoch 577 Loss: 0.000277 Test Loss: 0.000773\n",
      "Epoch 578 Loss: 0.000311 Test Loss: 0.000390\n",
      "Epoch 579 Loss: 0.000431 Test Loss: 0.000630\n",
      "Epoch 580 Loss: 0.000360 Test Loss: 0.000495\n",
      "Epoch 581 Loss: 0.000806 Test Loss: 0.000793\n",
      "Epoch 582 Loss: 0.000450 Test Loss: 0.000696\n",
      "Epoch 583 Loss: 0.000780 Test Loss: 0.000397\n",
      "Epoch 584 Loss: 0.000327 Test Loss: 0.000542\n",
      "Epoch 585 Loss: 0.000323 Test Loss: 0.000456\n",
      "Epoch 586 Loss: 0.000322 Test Loss: 0.000635\n",
      "Epoch 587 Loss: 0.000322 Test Loss: 0.000500\n",
      "Epoch 588 Loss: 0.000276 Test Loss: 0.000528\n",
      "Epoch 589 Loss: 0.000279 Test Loss: 0.000451\n",
      "Epoch 590 Loss: 0.000453 Test Loss: 0.000562\n",
      "Epoch 591 Loss: 0.000299 Test Loss: 0.000555\n",
      "Epoch 592 Loss: 0.000252 Test Loss: 0.000424\n",
      "Epoch 593 Loss: 0.000284 Test Loss: 0.000474\n",
      "Epoch 594 Loss: 0.000273 Test Loss: 0.000559\n",
      "Epoch 595 Loss: 0.000326 Test Loss: 0.000601\n",
      "Epoch 596 Loss: 0.000273 Test Loss: 0.000495\n",
      "Epoch 597 Loss: 0.000285 Test Loss: 0.000503\n",
      "Epoch 598 Loss: 0.000275 Test Loss: 0.000496\n",
      "Epoch 599 Loss: 0.000308 Test Loss: 0.000482\n"
     ]
    }
   ],
   "source": [
    "device = tr.device(\"cuda\" if tr.cuda.is_available() else \"cpu\")\n",
    "model = model.to(device) #looks for gpu if gpu is available and puts model into gpu for computation\n",
    "repeats = 600 #decides how many times each piece of data is ran through the model\n",
    "train_loss = []\n",
    "test_loss = []\n",
    "t_loss = 0\n",
    "for repeat in range(repeats):\n",
    "    model.train() #mode change into training\n",
    "    #if repeats > 200:\n",
    "        #op = op_2\n",
    "    for seq, labels in train_inout_seq[:-1]: #enumerate returns data into data and index into index_train, for loop is a single test of all info\n",
    "        #train_dataLoader includes 2 parts from the return, one is the target, other is data\n",
    "        seq = [seq]\n",
    "        labels = [labels]\n",
    "        x = tr.Tensor(seq) #input\n",
    "        y = tr.Tensor(labels) #label or target\n",
    "        op.zero_grad() #clear previous derivative, otherwise would cause error\n",
    "        pred = model(tr.unsqueeze(x, dim = 1)) #give the information (x) into the model, pred is the prediction of the model\n",
    "\n",
    "        loss = loss_function(pred,tr.unsqueeze(y, 1)) # Compares prediction with actual target with cross entropy\n",
    "        loss.backward() #pass the loss back (back propagation)\n",
    "        op.step() #with the loss, can optimize the model\n",
    "        train_loss.append(loss)\n",
    "\n",
    "    seq, labels = train_inout_seq[-1]\n",
    "    seq = [seq]\n",
    "    labels = [labels]\n",
    "    x = tr.Tensor(seq)\n",
    "    y = tr.Tensor(labels)\n",
    "    op.zero_grad()\n",
    "    pred = model(tr.unsqueeze(x, dim = 1))\n",
    "    t_loss = loss_function(pred, tr.unsqueeze(y, 1))\n",
    "    test_loss.append(t_loss)\n",
    "\n",
    "    print (\"Epoch %d Loss: %f Test Loss: %f\"%(repeat, loss, t_loss))\n",
    "\n",
    "\n",
    "\n",
    "#% is a replacement, letter after decides format"
   ]
  },
  {
   "cell_type": "code",
   "execution_count": 8,
   "metadata": {},
   "outputs": [],
   "source": [
    "#tr.save(model, 'model_180_2')\n",
    "model = tr.load('model_180')"
   ]
  },
  {
   "cell_type": "code",
   "execution_count": 60,
   "metadata": {},
   "outputs": [
    {
     "name": "stdout",
     "output_type": "stream",
     "text": [
      "tensor([[[7.3091e-01, 7.3716e-01, 7.5578e-01, 7.7365e-01, 7.7115e-01,\n",
      "          7.2666e-01, 6.6292e-01, 6.0292e-01, 5.7305e-01, 5.4906e-01,\n",
      "          5.5231e-01, 5.4256e-01, 5.4118e-01, 5.4456e-01, 5.8943e-01,\n",
      "          6.1005e-01, 6.1592e-01, 5.9992e-01, 5.3693e-01, 4.9244e-01,\n",
      "          4.6657e-01, 4.5957e-01, 4.6844e-01, 4.7632e-01, 5.0356e-01,\n",
      "          4.9594e-01, 5.4143e-01, 5.5156e-01, 5.4718e-01, 4.9681e-01,\n",
      "          4.2007e-01, 3.6583e-01, 3.4508e-01, 3.3183e-01, 3.2596e-01,\n",
      "          3.2533e-01, 3.2008e-01, 3.2333e-01, 3.5808e-01, 4.0457e-01,\n",
      "          4.4444e-01, 4.1257e-01, 3.7933e-01, 3.3308e-01, 2.7059e-01,\n",
      "          2.4147e-01, 2.4072e-01, 2.0197e-01, 1.8385e-01, 1.7860e-01,\n",
      "          2.3310e-01, 3.0096e-01, 3.5158e-01, 3.5921e-01, 3.5133e-01,\n",
      "          3.7808e-01, 4.3407e-01, 4.9269e-01, 5.7243e-01, 6.0480e-01,\n",
      "          6.6679e-01, 7.2703e-01, 8.1465e-01, 8.3152e-01, 8.1752e-01,\n",
      "          7.7190e-01, 7.0341e-01, 6.4654e-01, 6.0230e-01, 6.0330e-01,\n",
      "          6.1130e-01, 5.9380e-01, 6.1055e-01, 6.1980e-01, 6.5879e-01,\n",
      "          6.8329e-01, 6.8104e-01, 6.3667e-01, 5.6568e-01, 5.0881e-01,\n",
      "          4.7907e-01, 4.7832e-01, 4.8094e-01, 4.9081e-01, 4.5482e-01,\n",
      "          4.8381e-01, 4.8844e-01, 5.1369e-01, 5.0356e-01, 4.2570e-01,\n",
      "          3.3621e-01, 2.4759e-01, 1.8760e-01, 1.6185e-01, 1.7373e-01,\n",
      "          1.7098e-01, 1.8923e-01, 1.9898e-01, 2.5172e-01, 2.6072e-01,\n",
      "          2.6659e-01, 2.1522e-01, 1.4223e-01, 1.1149e-01, 9.2863e-02,\n",
      "          1.3123e-01, 1.3323e-01, 1.3061e-01, 1.4173e-01, 1.3223e-01,\n",
      "          1.6573e-01, 2.0035e-01, 2.0647e-01, 1.5998e-01, 1.0599e-01,\n",
      "          7.6865e-02, 4.9869e-02, 6.3742e-02, 9.3988e-02, 9.4738e-02,\n",
      "          1.0861e-01, 1.1124e-01, 1.6460e-01, 2.3035e-01, 2.7659e-01,\n",
      "          2.5759e-01, 2.1547e-01, 1.7385e-01, 1.4836e-01, 1.4223e-01,\n",
      "          1.7235e-01, 1.7998e-01, 1.8310e-01, 1.6623e-01, 1.8585e-01,\n",
      "          2.4809e-01, 2.5697e-01, 2.5572e-01, 2.1047e-01, 1.5436e-01,\n",
      "          1.1449e-01, 1.2223e-01, 1.4036e-01, 1.3298e-01, 1.3586e-01,\n",
      "          1.3336e-01, 1.7260e-01, 2.2622e-01, 2.5397e-01, 2.8234e-01,\n",
      "          2.6622e-01, 2.3535e-01, 2.1322e-01, 1.8960e-01, 1.9748e-01,\n",
      "          1.9185e-01, 1.8698e-01, 2.0247e-01, 2.8546e-01, 3.3783e-01,\n",
      "          3.5771e-01, 3.8670e-01, 3.5921e-01, 2.9584e-01, 2.4272e-01,\n",
      "          2.1222e-01, 2.0485e-01, 1.9448e-01, 1.7785e-01, 1.6773e-01,\n",
      "          2.0085e-01, 2.2872e-01, 2.4509e-01, 2.0922e-01, 1.4561e-01,\n",
      "          7.3116e-02, 1.3998e-02, 0.0000e+00, 3.8745e-03, 3.7495e-04]]])\n"
     ]
    },
    {
     "data": {
      "text/plain": [
       "Text(0, 0.5, 'Water Elevation (ft)')"
      ]
     },
     "execution_count": 60,
     "metadata": {},
     "output_type": "execute_result"
    },
    {
     "data": {
      "image/png": "[encoded data removed]",
      "text/plain": [
       "<Figure size 432x288 with 1 Axes>"
      ]
     },
     "metadata": {
      "needs_background": "light"
     },
     "output_type": "display_data"
    }
   ],
   "source": [
    "data1 = pd.read_csv('monthlyCSV.csv', header = 0, index_col = 0)\n",
    "data1 = data1.drop(range(1935, 2005))\n",
    "npdata1 = data1.to_numpy()\n",
    "g = []\n",
    "for i in npdata1:\n",
    "    for j in i:\n",
    "        if not np.isnan(j):\n",
    "            g.append(j)\n",
    "min_y = min(g)\n",
    "max_y = max(g)\n",
    "for i in range(len(g)):\n",
    "    g[i] -= min_y\n",
    "    g[i] /= max_y - min_y\n",
    "tw = 180\n",
    "g1 = g\n",
    "z = g1[-tw:]\n",
    "pred = []\n",
    "z = [z]\n",
    "z = tr.tensor(z, dtype = tr.float32)\n",
    "z = tr.unsqueeze(z, dim = 1)\n",
    "print(z)\n",
    "for i in range(2):\n",
    "    z = model(z)\n",
    "    z = tr.squeeze(z)\n",
    "    pred.append(z)\n",
    "    z = z.tolist()\n",
    "    g1.extend(z)\n",
    "    z = g1[-tw:]\n",
    "    z = [z]\n",
    "    z = tr.tensor(z, dtype = tr.float32)\n",
    "    z = tr.unsqueeze(z, dim = 1)\n",
    "prev_x = []\n",
    "for i in decomp.trend:\n",
    "    if not np.isnan(i):\n",
    "        prev_x.append(i * (max_y - min_y) + min_y)\n",
    "final_2030 = []\n",
    "for i in pred:\n",
    "    for j in i:\n",
    "        final_2030.append(((j * (max_y - min_y)) + min_y))\n",
    "time_to = len(prev_x)+len(final_2030)\n",
    "now = len(prev_x)\n",
    "a_1118 = []\n",
    "for i in range(0, time_to):\n",
    "    a_1118.append(1118)\n",
    "plt.plot(range(len(prev_x)),prev_x)\n",
    "plt.plot(range(now, time_to), final_2030)\n",
    "plt.plot(range(0, time_to), a_1118, color = 'r')\n",
    "plt.title('Result of the Model Trained with Drought Data')\n",
    "plt.xlabel('Time Since January 2007 (Months)')\n",
    "plt.ylabel('Water Elevation (ft)')\n",
    "#plt.xlim([600, 800])\n",
    "#plt.savefig('result_problem3.pdf')"
   ]
  },
  {
   "cell_type": "code",
   "execution_count": 74,
   "metadata": {},
   "outputs": [],
   "source": [
    "final_2030 = np.array(final_2030)\n",
    "final_2030.tofile('final_pred.csv', sep = ',')"
   ]
  },
  {
   "cell_type": "code",
   "execution_count": 61,
   "metadata": {
    "scrolled": false
   },
   "outputs": [
    {
     "name": "stdout",
     "output_type": "stream",
     "text": [
      "(1, 714)\n",
      "357\n",
      "357\n"
     ]
    },
    {
     "data": {
      "text/plain": [
       "<matplotlib.collections.PolyCollection at 0x7fcd943f29a0>"
      ]
     },
     "execution_count": 61,
     "metadata": {},
     "output_type": "execute_result"
    },
    {
     "data": {
      "image/png": "[encoded data removed]",
      "text/plain": [
       "<Figure size 432x288 with 1 Axes>"
      ]
     },
     "metadata": {
      "needs_background": "light"
     },
     "output_type": "display_data"
    }
   ],
   "source": [
    "data = pd.read_csv('final_pred.csv', header = None)\n",
    "data_np = data.to_numpy()\n",
    "print(data_np.shape)\n",
    "data_np=data_np.flatten()\n",
    "\n",
    "a=[]\n",
    "for i in range(0,data_np.size,2):\n",
    "    a.append(float((data_np[i])[7:15]))\n",
    "a=np.array(a)\n",
    "print(a.size)\n",
    "x=np.arange(2021.83,2050.416, 0.0802)\n",
    "print(x.size)\n",
    "plt.plot(x,a)\n",
    "plt.xlabel('Time (Year)')\n",
    "plt.xlabel('WaterLevel (Year)')\n",
    "y1=np.zeros(357)\n",
    "y1=y1+1118\n",
    "plt.plot(x,y1)\n",
    "plt.fill_between(x,y1,a, facecolor='w', alpha=1)\n",
    "plt.fill_between(x,0,a, facecolor='r', alpha=0.3)"
   ]
  },
  {
   "cell_type": "code",
   "execution_count": 81,
   "metadata": {},
   "outputs": [
    {
     "data": {
      "image/png": "[encoded data removed]",
      "text/plain": [
       "<Figure size 432x288 with 1 Axes>"
      ]
     },
     "metadata": {
      "needs_background": "light"
     },
     "output_type": "display_data"
    }
   ],
   "source": [
    "c = []\n",
    "dt = final_2030.tolist()\n",
    "del dt[0:3]\n",
    "for i in np.arange(0, len(dt)/12):\n",
    "    c.append(1118)\n",
    "\n",
    "plt.plot(np.arange(2022, 2022 + len(dt)/12, 1/12), dt, linewidth = 2, color = 'g', label = 'Predicted Elevation')\n",
    "plt.plot(np.arange(2022, 2022 + len(c)),c, color = 'r', label = 'Drought Threshold')\n",
    "plt.legend(loc = 'lower left')\n",
    "plt.xlabel(\"Year\")\n",
    "plt.ylabel(\"Lake Mead Water Elevation (ft)\")\n",
    "plt.title(\"Future Prediction Made by our New LSTM Model\")\n",
    "plt.savefig('problem_2345.pdf')"
   ]
  },
  {
   "cell_type": "code",
   "execution_count": 82,
   "metadata": {},
   "outputs": [],
   "source": [
    "data = final_2030\n",
    "data = data.tolist()\n",
    "del data[0:3]"
   ]
  },
  {
   "cell_type": "code",
   "execution_count": 87,
   "metadata": {},
   "outputs": [
    {
     "data": {
      "text/plain": [
       "(240.0, 370.65)"
      ]
     },
     "execution_count": 87,
     "metadata": {},
     "output_type": "execute_result"
    },
    {
     "data": {
      "image/png": "[encoded data removed]",
      "text/plain": [
       "<Figure size 432x288 with 1 Axes>"
      ]
     },
     "metadata": {
      "needs_background": "light"
     },
     "output_type": "display_data"
    }
   ],
   "source": [
    "data2_1118 = []\n",
    "for i in range(len(data)):\n",
    "    data2_1118.append(1118)\n",
    "plt.plot(data)\n",
    "plt.plot(data2_1118, color = 'r')\n",
    "plt.xlim(240)"
   ]
  },
  {
   "cell_type": "code",
   "execution_count": 88,
   "metadata": {},
   "outputs": [
    {
     "data": {
      "text/plain": [
       "249"
      ]
     },
     "execution_count": 88,
     "metadata": {},
     "output_type": "execute_result"
    }
   ],
   "source": [
    "#65\n",
    "ind = 0\n",
    "j = 239\n",
    "for i in data[240:250]:\n",
    "    j += 1\n",
    "    if ind == 0 and i <= 1118:\n",
    "        ind = j\n",
    "ind\n",
    "#2027 September 69, end 2036 June 174\n",
    "#2042 September 249, to 2051 357 sept\n"
   ]
  },
  {
   "cell_type": "code",
   "execution_count": 89,
   "metadata": {},
   "outputs": [
    {
     "data": {
      "text/plain": [
       "9"
      ]
     },
     "execution_count": 89,
     "metadata": {},
     "output_type": "execute_result"
    }
   ],
   "source": [
    "249%12"
   ]
  },
  {
   "cell_type": "code",
   "execution_count": 53,
   "metadata": {},
   "outputs": [],
   "source": [
    "def func (x):\n",
    "    y = (2.54*10**-4)*x**3 + (5.84*10**-2)*x**2 + (3.48 * 10)* x -(8.84 * 10)\n",
    "    return y\n",
    "threshold = 1118 - 895\n",
    "threshold = func(threshold)\n",
    "\n",
    "vol_1 = np.array(data[69:174])\n",
    "vol_2 = np.array(data[242:357])\n",
    "for i in range(len(vol_1)):\n",
    "    vol_1[i] -= 895\n",
    "for i in range(len(vol_2)):\n",
    "    vol_2[i] -= 895\n",
    "vol_1 = func(vol_1)\n",
    "vol_2 = func(vol_2)\n",
    "\n",
    "for i in range(len(vol_1)):\n",
    "    vol_1[i] = threshold - vol_1[i]\n",
    "for i in range(len(vol_2)):\n",
    "    vol_2[i] = threshold - vol_2[i]\n"
   ]
  },
  {
   "cell_type": "code",
   "execution_count": null,
   "metadata": {},
   "outputs": [],
   "source": []
  },
  {
   "cell_type": "code",
   "execution_count": 55,
   "metadata": {},
   "outputs": [
    {
     "name": "stdout",
     "output_type": "stream",
     "text": [
      "10039771.656889042\n"
     ]
    },
    {
     "data": {
      "image/png": "[encoded data removed]",
      "text/plain": [
       "<Figure size 432x288 with 1 Axes>"
      ]
     },
     "metadata": {
      "needs_background": "light"
     },
     "output_type": "display_data"
    }
   ],
   "source": [
    "y = range(len(vol_1))\n",
    "plt.scatter(y, vol_1)\n",
    "\n",
    "from scipy.interpolate import InterpolatedUnivariateSpline\n",
    "spl = InterpolatedUnivariateSpline(y, vol_1)\n",
    "plt.plot(y, spl(y))\n",
    "print(spl.integral(0, len(vol_1)-1))"
   ]
  },
  {
   "cell_type": "code",
   "execution_count": 127,
   "metadata": {},
   "outputs": [
    {
     "name": "stdout",
     "output_type": "stream",
     "text": [
      "271954.2437855401\n"
     ]
    },
    {
     "data": {
      "image/png": "[encoded data removed]",
      "text/plain": [
       "<Figure size 432x288 with 1 Axes>"
      ]
     },
     "metadata": {
      "needs_background": "light"
     },
     "output_type": "display_data"
    }
   ],
   "source": [
    "y = range(len(vol_2))\n",
    "plt.scatter(y, vol_2)\n",
    "spl_2 = InterpolatedUnivariateSpline(y, vol_2)\n",
    "plt.plot(y, spl_2(y))\n",
    "print(spl_2.integral(0, len(vol_2)-1))"
   ]
  },
  {
   "cell_type": "code",
   "execution_count": 20,
   "metadata": {},
   "outputs": [
    {
     "name": "stdout",
     "output_type": "stream",
     "text": [
      "yes\n"
     ]
    },
    {
     "ename": "KeyboardInterrupt",
     "evalue": "",
     "output_type": "error",
     "traceback": [
      "\u001b[0;31m---------------------------------------------------------------------------\u001b[0m",
      "\u001b[0;31mKeyboardInterrupt\u001b[0m                         Traceback (most recent call last)",
      "\u001b[0;32m<ipython-input-20-0b286e147416>\u001b[0m in \u001b[0;36m<module>\u001b[0;34m\u001b[0m\n\u001b[1;32m     30\u001b[0m                 \u001b[0my\u001b[0m \u001b[0;34m=\u001b[0m \u001b[0mtr\u001b[0m\u001b[0;34m.\u001b[0m\u001b[0mTensor\u001b[0m\u001b[0;34m(\u001b[0m\u001b[0mlabels\u001b[0m\u001b[0;34m)\u001b[0m \u001b[0;31m#label or target\u001b[0m\u001b[0;34m\u001b[0m\u001b[0;34m\u001b[0m\u001b[0m\n\u001b[1;32m     31\u001b[0m                 \u001b[0mop\u001b[0m\u001b[0;34m.\u001b[0m\u001b[0mzero_grad\u001b[0m\u001b[0;34m(\u001b[0m\u001b[0;34m)\u001b[0m \u001b[0;31m#clear previous derivative, otherwise would cause error\u001b[0m\u001b[0;34m\u001b[0m\u001b[0;34m\u001b[0m\u001b[0m\n\u001b[0;32m---> 32\u001b[0;31m                 \u001b[0mpred\u001b[0m \u001b[0;34m=\u001b[0m \u001b[0mmodel\u001b[0m\u001b[0;34m(\u001b[0m\u001b[0mtr\u001b[0m\u001b[0;34m.\u001b[0m\u001b[0munsqueeze\u001b[0m\u001b[0;34m(\u001b[0m\u001b[0mx\u001b[0m\u001b[0;34m,\u001b[0m \u001b[0mdim\u001b[0m \u001b[0;34m=\u001b[0m \u001b[0;36m1\u001b[0m\u001b[0;34m)\u001b[0m\u001b[0;34m)\u001b[0m \u001b[0;31m#give the information (x) into the model, pred is the prediction of the model\u001b[0m\u001b[0;34m\u001b[0m\u001b[0;34m\u001b[0m\u001b[0m\n\u001b[0m\u001b[1;32m     33\u001b[0m \u001b[0;34m\u001b[0m\u001b[0m\n\u001b[1;32m     34\u001b[0m                 \u001b[0mloss\u001b[0m \u001b[0;34m=\u001b[0m \u001b[0mloss_function\u001b[0m\u001b[0;34m(\u001b[0m\u001b[0mpred\u001b[0m\u001b[0;34m,\u001b[0m\u001b[0mtr\u001b[0m\u001b[0;34m.\u001b[0m\u001b[0munsqueeze\u001b[0m\u001b[0;34m(\u001b[0m\u001b[0my\u001b[0m\u001b[0;34m,\u001b[0m \u001b[0;36m1\u001b[0m\u001b[0;34m)\u001b[0m\u001b[0;34m)\u001b[0m \u001b[0;31m# Compares prediction with actual target with cross entropy\u001b[0m\u001b[0;34m\u001b[0m\u001b[0;34m\u001b[0m\u001b[0m\n",
      "\u001b[0;32m~/opt/anaconda3/lib/python3.8/site-packages/torch/nn/modules/module.py\u001b[0m in \u001b[0;36m_call_impl\u001b[0;34m(self, *input, **kwargs)\u001b[0m\n\u001b[1;32m    720\u001b[0m             \u001b[0mresult\u001b[0m \u001b[0;34m=\u001b[0m \u001b[0mself\u001b[0m\u001b[0;34m.\u001b[0m\u001b[0m_slow_forward\u001b[0m\u001b[0;34m(\u001b[0m\u001b[0;34m*\u001b[0m\u001b[0minput\u001b[0m\u001b[0;34m,\u001b[0m \u001b[0;34m**\u001b[0m\u001b[0mkwargs\u001b[0m\u001b[0;34m)\u001b[0m\u001b[0;34m\u001b[0m\u001b[0;34m\u001b[0m\u001b[0m\n\u001b[1;32m    721\u001b[0m         \u001b[0;32melse\u001b[0m\u001b[0;34m:\u001b[0m\u001b[0;34m\u001b[0m\u001b[0;34m\u001b[0m\u001b[0m\n\u001b[0;32m--> 722\u001b[0;31m             \u001b[0mresult\u001b[0m \u001b[0;34m=\u001b[0m \u001b[0mself\u001b[0m\u001b[0;34m.\u001b[0m\u001b[0mforward\u001b[0m\u001b[0;34m(\u001b[0m\u001b[0;34m*\u001b[0m\u001b[0minput\u001b[0m\u001b[0;34m,\u001b[0m \u001b[0;34m**\u001b[0m\u001b[0mkwargs\u001b[0m\u001b[0;34m)\u001b[0m\u001b[0;34m\u001b[0m\u001b[0;34m\u001b[0m\u001b[0m\n\u001b[0m\u001b[1;32m    723\u001b[0m         for hook in itertools.chain(\n\u001b[1;32m    724\u001b[0m                 \u001b[0m_global_forward_hooks\u001b[0m\u001b[0;34m.\u001b[0m\u001b[0mvalues\u001b[0m\u001b[0;34m(\u001b[0m\u001b[0;34m)\u001b[0m\u001b[0;34m,\u001b[0m\u001b[0;34m\u001b[0m\u001b[0;34m\u001b[0m\u001b[0m\n",
      "\u001b[0;32m<ipython-input-6-e38f1e9d2ff3>\u001b[0m in \u001b[0;36mforward\u001b[0;34m(self, x)\u001b[0m\n\u001b[1;32m     24\u001b[0m \u001b[0;34m\u001b[0m\u001b[0m\n\u001b[1;32m     25\u001b[0m     \u001b[0;32mdef\u001b[0m \u001b[0mforward\u001b[0m\u001b[0;34m(\u001b[0m\u001b[0mself\u001b[0m\u001b[0;34m,\u001b[0m \u001b[0mx\u001b[0m\u001b[0;34m)\u001b[0m\u001b[0;34m:\u001b[0m\u001b[0;34m\u001b[0m\u001b[0;34m\u001b[0m\u001b[0m\n\u001b[0;32m---> 26\u001b[0;31m         \u001b[0mr_out\u001b[0m\u001b[0;34m,\u001b[0m \u001b[0;34m(\u001b[0m\u001b[0mh_n\u001b[0m\u001b[0;34m,\u001b[0m \u001b[0mh_c\u001b[0m\u001b[0;34m)\u001b[0m \u001b[0;34m=\u001b[0m \u001b[0mself\u001b[0m\u001b[0;34m.\u001b[0m\u001b[0mrnn\u001b[0m\u001b[0;34m(\u001b[0m\u001b[0mx\u001b[0m\u001b[0;34m,\u001b[0m \u001b[0;32mNone\u001b[0m\u001b[0;34m)\u001b[0m \u001b[0;31m#initial h and c is 0\u001b[0m\u001b[0;34m\u001b[0m\u001b[0;34m\u001b[0m\u001b[0m\n\u001b[0m\u001b[1;32m     27\u001b[0m         \u001b[0mout\u001b[0m \u001b[0;34m=\u001b[0m \u001b[0mself\u001b[0m\u001b[0;34m.\u001b[0m\u001b[0mout\u001b[0m\u001b[0;34m(\u001b[0m\u001b[0mr_out\u001b[0m\u001b[0;34m)\u001b[0m\u001b[0;34m\u001b[0m\u001b[0;34m\u001b[0m\u001b[0m\n\u001b[1;32m     28\u001b[0m         \u001b[0;32mreturn\u001b[0m \u001b[0mout\u001b[0m\u001b[0;34m\u001b[0m\u001b[0;34m\u001b[0m\u001b[0m\n",
      "\u001b[0;32m~/opt/anaconda3/lib/python3.8/site-packages/torch/nn/modules/module.py\u001b[0m in \u001b[0;36m_call_impl\u001b[0;34m(self, *input, **kwargs)\u001b[0m\n\u001b[1;32m    720\u001b[0m             \u001b[0mresult\u001b[0m \u001b[0;34m=\u001b[0m \u001b[0mself\u001b[0m\u001b[0;34m.\u001b[0m\u001b[0m_slow_forward\u001b[0m\u001b[0;34m(\u001b[0m\u001b[0;34m*\u001b[0m\u001b[0minput\u001b[0m\u001b[0;34m,\u001b[0m \u001b[0;34m**\u001b[0m\u001b[0mkwargs\u001b[0m\u001b[0;34m)\u001b[0m\u001b[0;34m\u001b[0m\u001b[0;34m\u001b[0m\u001b[0m\n\u001b[1;32m    721\u001b[0m         \u001b[0;32melse\u001b[0m\u001b[0;34m:\u001b[0m\u001b[0;34m\u001b[0m\u001b[0;34m\u001b[0m\u001b[0m\n\u001b[0;32m--> 722\u001b[0;31m             \u001b[0mresult\u001b[0m \u001b[0;34m=\u001b[0m \u001b[0mself\u001b[0m\u001b[0;34m.\u001b[0m\u001b[0mforward\u001b[0m\u001b[0;34m(\u001b[0m\u001b[0;34m*\u001b[0m\u001b[0minput\u001b[0m\u001b[0;34m,\u001b[0m \u001b[0;34m**\u001b[0m\u001b[0mkwargs\u001b[0m\u001b[0;34m)\u001b[0m\u001b[0;34m\u001b[0m\u001b[0;34m\u001b[0m\u001b[0m\n\u001b[0m\u001b[1;32m    723\u001b[0m         for hook in itertools.chain(\n\u001b[1;32m    724\u001b[0m                 \u001b[0m_global_forward_hooks\u001b[0m\u001b[0;34m.\u001b[0m\u001b[0mvalues\u001b[0m\u001b[0;34m(\u001b[0m\u001b[0;34m)\u001b[0m\u001b[0;34m,\u001b[0m\u001b[0;34m\u001b[0m\u001b[0;34m\u001b[0m\u001b[0m\n",
      "\u001b[0;32m~/opt/anaconda3/lib/python3.8/site-packages/torch/nn/modules/rnn.py\u001b[0m in \u001b[0;36mforward\u001b[0;34m(self, input, hx)\u001b[0m\n\u001b[1;32m    574\u001b[0m         \u001b[0mself\u001b[0m\u001b[0;34m.\u001b[0m\u001b[0mcheck_forward_args\u001b[0m\u001b[0;34m(\u001b[0m\u001b[0minput\u001b[0m\u001b[0;34m,\u001b[0m \u001b[0mhx\u001b[0m\u001b[0;34m,\u001b[0m \u001b[0mbatch_sizes\u001b[0m\u001b[0;34m)\u001b[0m\u001b[0;34m\u001b[0m\u001b[0;34m\u001b[0m\u001b[0m\n\u001b[1;32m    575\u001b[0m         \u001b[0;32mif\u001b[0m \u001b[0mbatch_sizes\u001b[0m \u001b[0;32mis\u001b[0m \u001b[0;32mNone\u001b[0m\u001b[0;34m:\u001b[0m\u001b[0;34m\u001b[0m\u001b[0;34m\u001b[0m\u001b[0m\n\u001b[0;32m--> 576\u001b[0;31m             result = _VF.lstm(input, hx, self._flat_weights, self.bias, self.num_layers,\n\u001b[0m\u001b[1;32m    577\u001b[0m                               self.dropout, self.training, self.bidirectional, self.batch_first)\n\u001b[1;32m    578\u001b[0m         \u001b[0;32melse\u001b[0m\u001b[0;34m:\u001b[0m\u001b[0;34m\u001b[0m\u001b[0;34m\u001b[0m\u001b[0m\n",
      "\u001b[0;31mKeyboardInterrupt\u001b[0m: "
     ]
    }
   ],
   "source": [
    "a = np.zeros((24, 19, 2))\n",
    "#a = np.load('sensitivity.npy', allow_pickle = True)\n",
    "device = tr.device(\"cuda\" if tr.cuda.is_available() else \"cpu\")\n",
    "k = -1\n",
    "for i in range(24, 49):\n",
    "    train_inout_seq = create_inout_sequences(trend, i)\n",
    "    for j in np.arange(0.0001, 0.0014, 0.00005):\n",
    "        model = RNN(i+3)\n",
    "        k += 1\n",
    "        op = tr.optim.Adam(model.parameters(), lr=j)\n",
    "        model = model.to(device) #looks for gpu if gpu is available and puts model into gpu for computation\n",
    "        repeats = 600 #decides how many times each piece of data is ran through the model\n",
    "        train_loss = []\n",
    "        test_loss = []\n",
    "        t_loss = 0\n",
    "        loss = 0\n",
    "        print('yes')\n",
    "        for repeat in range(repeats):\n",
    "            if a[i-24][k][0] != 0: \n",
    "                continue\n",
    "                print('skip')\n",
    "            model.train() #mode change into training\n",
    "            #if repeats > 200:\n",
    "                #op = op_2\n",
    "            for seq, labels in train_inout_seq[:-1]: #enumerate returns data into data and index into index_train, for loop is a single test of all info\n",
    "                #train_dataLoader includes 2 parts from the return, one is the target, other is data\n",
    "                seq = [seq]\n",
    "                labels = [labels]\n",
    "                x = tr.Tensor(seq) #input\n",
    "                y = tr.Tensor(labels) #label or target\n",
    "                op.zero_grad() #clear previous derivative, otherwise would cause error\n",
    "                pred = model(tr.unsqueeze(x, dim = 1)) #give the information (x) into the model, pred is the prediction of the model\n",
    "\n",
    "                loss = loss_function(pred,tr.unsqueeze(y, 1)) # Compares prediction with actual target with cross entropy\n",
    "                loss.backward() #pass the loss back (back propagation)\n",
    "                op.step() #with the loss, can optimize the model\n",
    "                train_loss.append(loss)\n",
    "\n",
    "            seq, labels = train_inout_seq[-1]\n",
    "            seq = [seq]\n",
    "            labels = [labels]\n",
    "            x = tr.Tensor(seq)\n",
    "            y = tr.Tensor(labels)\n",
    "            op.zero_grad()\n",
    "            pred = model(tr.unsqueeze(x, dim = 1))\n",
    "            t_loss = loss_function(pred, tr.unsqueeze(y, 1))\n",
    "            test_loss.append(t_loss)\n",
    "        a[i-24][k][0] = t_loss\n",
    "        a[i-24][k][1] = loss\n",
    "        np.save('sensitivity2', a, allow_pickle = True)\n",
    "        \n",
    "    #print (\"Epoch %d Loss: %f Test Loss: %f\"%(repeat, loss, t_loss))\n",
    "\n",
    "\n",
    "\n",
    "#% is a replacement, letter after decides format"
   ]
  },
  {
   "cell_type": "code",
   "execution_count": 93,
   "metadata": {},
   "outputs": [],
   "source": [
    "import numpy as np, pandas as pd\n",
    "from matplotlib import pyplot as plt\n",
    "data1 = pd.read_csv('monthlyCSV.csv', header = 0, index_col = 0)\n",
    "data1 = data1.drop(range(1935, 2007))\n",
    "data1 = data1.drop(2021)\n",
    "npdata1 = data1.to_numpy()\n",
    "g = []\n",
    "for i in npdata1:\n",
    "    for j in i:\n",
    "        if not np.isnan(j):\n",
    "            g.append(j)\n",
    "min_y = min(g)\n",
    "max_y = max(g)\n",
    "for i in range(len(g)):\n",
    "    g[i] -= min_y\n",
    "    g[i] /= max_y - min_y\n",
    "from statsmodels.tsa.seasonal import seasonal_decompose\n",
    "decomp = seasonal_decompose(g, model = 'additive', period = 12)\n",
    "trend = []\n",
    "for i in decomp.trend:\n",
    "    if not np.isnan(i):\n",
    "        trend.append(i)"
   ]
  },
  {
   "cell_type": "code",
   "execution_count": 94,
   "metadata": {},
   "outputs": [
    {
     "name": "stdout",
     "output_type": "stream",
     "text": [
      "ADF Statistic: -1.491062\n",
      "p-value: 0.537928\n",
      "Critical Values:\n",
      "\t1%: -3.478\n",
      "\t5%: -2.882\n",
      "\t10%: -2.578\n"
     ]
    }
   ],
   "source": [
    "from statsmodels.tsa.stattools import adfuller\n",
    "result = adfuller(trend)\n",
    "print('ADF Statistic: %f' % result[0])\n",
    "print('p-value: %f' % result[1])\n",
    "print('Critical Values:')\n",
    "for key, value in result[4].items():\n",
    "    print('\\t%s: %.3f' % (key, value))"
   ]
  },
  {
   "cell_type": "code",
   "execution_count": 115,
   "metadata": {},
   "outputs": [
    {
     "name": "stdout",
     "output_type": "stream",
     "text": [
      "                             ARIMA Model Results                              \n",
      "==============================================================================\n",
      "Dep. Variable:                    D.y   No. Observations:                  155\n",
      "Model:                 ARIMA(3, 1, 1)   Log Likelihood                 815.471\n",
      "Method:                       css-mle   S.D. of innovations              0.001\n",
      "Date:                Sun, 14 Nov 2021   AIC                          -1618.942\n",
      "Time:                        20:41:32   BIC                          -1600.682\n",
      "Sample:                             1   HQIC                         -1611.525\n",
      "                                                                              \n",
      "==============================================================================\n",
      "                 coef    std err          z      P>|z|      [0.025      0.975]\n",
      "------------------------------------------------------------------------------\n",
      "const         -0.0043      0.004     -1.063      0.288      -0.012       0.004\n",
      "ar.L1.D.y      1.3637      0.074     18.329      0.000       1.218       1.509\n",
      "ar.L2.D.y     -0.0222      0.135     -0.165      0.869      -0.286       0.242\n",
      "ar.L3.D.y     -0.3889      0.075     -5.206      0.000      -0.535      -0.242\n",
      "ma.L1.D.y      1.0000      0.017     58.823      0.000       0.967       1.033\n",
      "                                    Roots                                    \n",
      "=============================================================================\n",
      "                  Real          Imaginary           Modulus         Frequency\n",
      "-----------------------------------------------------------------------------\n",
      "AR.1            1.0675           -0.1835j            1.0831           -0.0271\n",
      "AR.2            1.0675           +0.1835j            1.0831            0.0271\n",
      "AR.3           -2.1920           -0.0000j            2.1920           -0.5000\n",
      "MA.1           -1.0000           +0.0000j            1.0000            0.5000\n",
      "-----------------------------------------------------------------------------\n"
     ]
    }
   ],
   "source": [
    "import statsmodels.api as sm\n",
    "model=sm.tsa.ARIMA(endog=trend,order=(3, 1, 1))\n",
    "results=model.fit()\n",
    "print(results.summary())"
   ]
  },
  {
   "cell_type": "code",
   "execution_count": 120,
   "metadata": {},
   "outputs": [
    {
     "data": {
      "image/png": "[encoded data removed]",
      "text/plain": [
       "<Figure size 432x288 with 1 Axes>"
      ]
     },
     "metadata": {
      "needs_background": "light"
     },
     "output_type": "display_data"
    },
    {
     "data": {
      "image/png": "[encoded data removed]",
      "text/plain": [
       "<Figure size 864x576 with 2 Axes>"
      ]
     },
     "metadata": {
      "needs_background": "light"
     },
     "output_type": "display_data"
    }
   ],
   "source": [
    "plt.plot(range(len(results.resid)), results.resid)\n",
    "fig = plt.figure(figsize=(12,8))\n",
    "ax1 = fig.add_subplot(211)\n",
    "fig = sm.graphics.tsa.plot_acf(results.resid, lags=40, ax=ax1)\n",
    "ax2 = fig.add_subplot(212)\n",
    "fig = sm.graphics.tsa.plot_pacf(results.resid, lags=40, ax=ax2)\n",
    "plt.savefig('correlation.pdf')"
   ]
  },
  {
   "cell_type": "code",
   "execution_count": 121,
   "metadata": {},
   "outputs": [
    {
     "data": {
      "image/png": "[encoded data removed]",
      "text/plain": [
       "<Figure size 432x288 with 1 Axes>"
      ]
     },
     "metadata": {
      "needs_background": "light"
     },
     "output_type": "display_data"
    }
   ],
   "source": [
    "forecast,std,conf=results.forecast(120)\n",
    "prev_x = []\n",
    "for i in decomp.trend:\n",
    "    if not np.isnan(i):\n",
    "        prev_x.append(i * (max_y - min_y) + min_y)\n",
    "final_2030 = []\n",
    "for i in forecast:\n",
    "    final_2030.append(i * (max_y - min_y) + min_y)\n",
    "time_to = len(prev_x)+len(final_2030)\n",
    "now = len(prev_x)\n",
    "plt.plot(range(len(prev_x)),prev_x)\n",
    "plt.plot(range(now, time_to), final_2030)\n",
    "plt.title('Result of the Model Trained with Drought Data')\n",
    "plt.xlabel('Time Since January 2007 (Months)')\n",
    "plt.ylabel('Water Elevation (ft)')\n",
    "#plt.ylim([1070, 1150])\n",
    "#plt.plot(forecast)\n",
    "plt.savefig('result_drought.pdf')"
   ]
  },
  {
   "cell_type": "code",
   "execution_count": 84,
   "metadata": {},
   "outputs": [],
   "source": [
    "res, res_std, res_conf = results.forecast(360)\n",
    "import numpy as np, pandas as pd\n",
    "from matplotlib import pyplot as plt\n",
    "data1 = pd.read_csv('monthlyCSV.csv', header = 0, index_col = 0)\n",
    "data1 = data1.drop(range(1935, 2006))\n",
    "data1 = data1.drop(2021)\n",
    "npdata1 = data1.to_numpy()\n",
    "g = []\n",
    "for i in npdata1:\n",
    "    for j in i:\n",
    "        if not np.isnan(j):\n",
    "            g.append(j)\n",
    "min_y = min(g)\n",
    "max_y = max(g)\n",
    "for i in range(len(g)):\n",
    "    g[i] -= min_y\n",
    "    g[i] /= max_y - min_y\n",
    "from statsmodels.tsa.seasonal import seasonal_decompose\n",
    "decomp = seasonal_decompose(g, model = 'additive', period = 12)\n",
    "trend = []\n",
    "for i in decomp.trend:\n",
    "    if not np.isnan(i):\n",
    "        trend.append(i)\n",
    "res[0] += trend[-1]\n",
    "for i in range(len(res[1:])):\n",
    "    res[i] += res[i-1]"
   ]
  },
  {
   "cell_type": "code",
   "execution_count": 85,
   "metadata": {
    "scrolled": true
   },
   "outputs": [
    {
     "data": {
      "text/plain": [
       "array([ 1.99419219e-01,  1.87180669e-01,  1.72734641e-01,  1.56466306e-01,\n",
       "        1.38692415e-01,  1.19673447e-01,  9.96236112e-02,  7.87190619e-02,\n",
       "        5.71046612e-02,  3.48995372e-02,  1.22016555e-02, -1.09084211e-02,\n",
       "       -3.43644415e-02, -5.81119238e-02, -8.21060643e-02, -1.06310018e-01,\n",
       "       -1.30693487e-01, -1.55231553e-01, -1.79903727e-01, -2.04693157e-01,\n",
       "       -2.29585987e-01, -2.54570822e-01, -2.79638289e-01, -3.04780683e-01,\n",
       "       -3.29991667e-01, -3.55266028e-01, -3.80599482e-01, -4.05988503e-01,\n",
       "       -4.31430193e-01, -4.56922170e-01, -4.82462472e-01, -5.08049488e-01,\n",
       "       -5.33681892e-01, -5.59358594e-01, -5.85078699e-01, -6.10841468e-01,\n",
       "       -6.36646296e-01, -6.62492683e-01, -6.88380221e-01, -7.14308572e-01,\n",
       "       -7.40277458e-01, -7.66286652e-01, -7.92335966e-01, -8.18425246e-01,\n",
       "       -8.44554365e-01, -8.70723220e-01, -8.96931723e-01, -9.23179805e-01,\n",
       "       -9.49467408e-01, -9.75794483e-01, -1.00216099e+00, -1.02856690e+00,\n",
       "       -1.05501219e+00, -1.08149683e+00, -1.10802080e+00, -1.13458410e+00,\n",
       "       -1.16118670e+00, -1.18782860e+00, -1.21450979e+00, -1.24123027e+00,\n",
       "       -1.26799002e+00, -1.29478905e+00, -1.32162734e+00, -1.34850491e+00,\n",
       "       -1.37542173e+00, -1.40237782e+00, -1.42937317e+00, -1.45640778e+00,\n",
       "       -1.48348164e+00, -1.51059476e+00, -1.53774714e+00, -1.56493877e+00,\n",
       "       -1.59216966e+00, -1.61943980e+00, -1.64674920e+00, -1.67409785e+00,\n",
       "       -1.70148575e+00, -1.72891290e+00, -1.75637931e+00, -1.78388497e+00,\n",
       "       -1.81142989e+00, -1.83901405e+00, -1.86663747e+00, -1.89430014e+00,\n",
       "       -1.92200207e+00, -1.94974324e+00, -1.97752367e+00, -2.00534335e+00,\n",
       "       -2.03320229e+00, -2.06110047e+00, -2.08903791e+00, -2.11701460e+00,\n",
       "       -2.14503054e+00, -2.17308574e+00, -2.20118019e+00, -2.22931389e+00,\n",
       "       -2.25748684e+00, -2.28569904e+00, -2.31395050e+00, -2.34224120e+00,\n",
       "       -2.37057117e+00, -2.39894038e+00, -2.42734884e+00, -2.45579656e+00,\n",
       "       -2.48428353e+00, -2.51280975e+00, -2.54137522e+00, -2.56997995e+00,\n",
       "       -2.59862393e+00, -2.62730716e+00, -2.65602964e+00, -2.68479138e+00,\n",
       "       -2.71359236e+00, -2.74243260e+00, -2.77131210e+00, -2.80023084e+00,\n",
       "       -2.82918884e+00, -2.85818608e+00, -2.88722258e+00, -2.91629834e+00,\n",
       "       -2.94541334e+00, -2.97456760e+00, -3.00376111e+00, -3.03299387e+00,\n",
       "       -3.06226588e+00, -3.09157715e+00, -3.12092767e+00, -3.15031744e+00,\n",
       "       -3.17974646e+00, -3.20921473e+00, -3.23872226e+00, -3.26826904e+00,\n",
       "       -3.29785507e+00, -3.32748036e+00, -3.35714489e+00, -3.38684868e+00,\n",
       "       -3.41659172e+00, -3.44637401e+00, -3.47619556e+00, -3.50605635e+00,\n",
       "       -3.53595640e+00, -3.56589570e+00, -3.59587426e+00, -3.62589206e+00,\n",
       "       -3.65594912e+00, -3.68604543e+00, -3.71618099e+00, -3.74635581e+00,\n",
       "       -3.77656988e+00, -3.80682320e+00, -3.83711577e+00, -3.86744759e+00,\n",
       "       -3.89781867e+00, -3.92822899e+00, -3.95867857e+00, -3.98916741e+00,\n",
       "       -4.01969549e+00, -4.05026283e+00, -4.08086942e+00, -4.11151526e+00,\n",
       "       -4.14220035e+00, -4.17292470e+00, -4.20368830e+00, -4.23449115e+00,\n",
       "       -4.26533325e+00, -4.29621460e+00, -4.32713521e+00, -4.35809507e+00,\n",
       "       -4.38909418e+00, -4.42013254e+00, -4.45121016e+00, -4.48232703e+00,\n",
       "       -4.51348315e+00, -4.54467852e+00, -4.57591314e+00, -4.60718702e+00,\n",
       "       -4.63850015e+00, -4.66985253e+00, -4.70124416e+00, -4.73267505e+00,\n",
       "       -4.76414519e+00, -4.79565458e+00, -4.82720322e+00, -4.85879111e+00,\n",
       "       -4.89041826e+00, -4.92208466e+00, -4.95379031e+00, -4.98553521e+00,\n",
       "       -5.01731937e+00, -5.04914278e+00, -5.08100544e+00, -5.11290735e+00,\n",
       "       -5.14484851e+00, -5.17682893e+00, -5.20884860e+00, -5.24090752e+00,\n",
       "       -5.27300569e+00, -5.30514312e+00, -5.33731980e+00, -5.36953573e+00,\n",
       "       -5.40179091e+00, -5.43408534e+00, -5.46641903e+00, -5.49879197e+00,\n",
       "       -5.53120416e+00, -5.56365560e+00, -5.59614630e+00, -5.62867624e+00,\n",
       "       -5.66124544e+00, -5.69385390e+00, -5.72650160e+00, -5.75918856e+00,\n",
       "       -5.79191477e+00, -5.82468023e+00, -5.85748494e+00, -5.89032890e+00,\n",
       "       -5.92321212e+00, -5.95613459e+00, -5.98909631e+00, -6.02209729e+00,\n",
       "       -6.05513751e+00, -6.08821699e+00, -6.12133572e+00, -6.15449371e+00,\n",
       "       -6.18769094e+00, -6.22092743e+00, -6.25420317e+00, -6.28751816e+00,\n",
       "       -6.32087241e+00, -6.35426590e+00, -6.38769865e+00, -6.42117065e+00,\n",
       "       -6.45468190e+00, -6.48823241e+00, -6.52182217e+00, -6.55545118e+00,\n",
       "       -6.58911944e+00, -6.62282695e+00, -6.65657372e+00, -6.69035974e+00,\n",
       "       -6.72418501e+00, -6.75804953e+00, -6.79195331e+00, -6.82589633e+00,\n",
       "       -6.85987861e+00, -6.89390015e+00, -6.92796093e+00, -6.96206097e+00,\n",
       "       -6.99620025e+00, -7.03037879e+00, -7.06459659e+00, -7.09885363e+00,\n",
       "       -7.13314993e+00, -7.16748548e+00, -7.20186028e+00, -7.23627433e+00,\n",
       "       -7.27072764e+00, -7.30522020e+00, -7.33975201e+00, -7.37432307e+00,\n",
       "       -7.40893339e+00, -7.44358296e+00, -7.47827177e+00, -7.51299985e+00,\n",
       "       -7.54776717e+00, -7.58257375e+00, -7.61741957e+00, -7.65230466e+00,\n",
       "       -7.68722899e+00, -7.72219257e+00, -7.75719541e+00, -7.79223750e+00,\n",
       "       -7.82731884e+00, -7.86243943e+00, -7.89759928e+00, -7.93279838e+00,\n",
       "       -7.96803673e+00, -8.00331433e+00, -8.03863119e+00, -8.07398729e+00,\n",
       "       -8.10938265e+00, -8.14481727e+00, -8.18029113e+00, -8.21580425e+00,\n",
       "       -8.25135661e+00, -8.28694823e+00, -8.32257911e+00, -8.35824923e+00,\n",
       "       -8.39395861e+00, -8.42970724e+00, -8.46549512e+00, -8.50132225e+00,\n",
       "       -8.53718864e+00, -8.57309428e+00, -8.60903917e+00, -8.64502331e+00,\n",
       "       -8.68104670e+00, -8.71710935e+00, -8.75321125e+00, -8.78935240e+00,\n",
       "       -8.82553281e+00, -8.86175246e+00, -8.89801137e+00, -8.93430953e+00,\n",
       "       -8.97064694e+00, -9.00702361e+00, -9.04343952e+00, -9.07989469e+00,\n",
       "       -9.11638911e+00, -9.15292279e+00, -9.18949571e+00, -9.22610789e+00,\n",
       "       -9.26275932e+00, -9.29945000e+00, -9.33617994e+00, -9.37294913e+00,\n",
       "       -9.40975757e+00, -9.44660526e+00, -9.48349220e+00, -9.52041840e+00,\n",
       "       -9.55738384e+00, -9.59438854e+00, -9.63143250e+00, -9.66851570e+00,\n",
       "       -9.70563816e+00, -9.74279987e+00, -9.78000083e+00, -9.81724104e+00,\n",
       "       -9.85452051e+00, -9.89183923e+00, -9.92919720e+00, -9.96659442e+00,\n",
       "       -1.00040309e+01, -1.00415066e+01, -1.00790216e+01, -1.01165758e+01,\n",
       "       -1.01541693e+01, -1.01918020e+01, -1.02294740e+01, -1.02671853e+01,\n",
       "       -1.03049358e+01, -1.03427255e+01, -1.03805545e+01, -1.04184228e+01,\n",
       "       -1.04563303e+01, -1.04942770e+01, -1.05322630e+01, -1.05702883e+01,\n",
       "       -1.06083528e+01, -1.06464565e+01, -1.06845996e+01, -1.07227818e+01,\n",
       "       -1.07610033e+01, -1.07992641e+01, -1.08375641e+01, -1.08759034e+01,\n",
       "       -1.09142819e+01, -1.09526997e+01, -1.09911568e+01, -3.84962844e-02])"
      ]
     },
     "execution_count": 85,
     "metadata": {},
     "output_type": "execute_result"
    }
   ],
   "source": [
    "res"
   ]
  },
  {
   "cell_type": "code",
   "execution_count": 86,
   "metadata": {
    "scrolled": true
   },
   "outputs": [
    {
     "data": {
      "text/plain": [
       "array([-0.00956269, -0.01223855, -0.01444603, -0.01626833, -0.01777389,\n",
       "       -0.01901897, -0.02004984, -0.02090455, -0.0216144 , -0.02220512,\n",
       "       -0.02269788, -0.02311008, -0.02345602, -0.02374748, -0.02399414,\n",
       "       -0.02420395, -0.02438347, -0.02453807, -0.02467217, -0.02478943,\n",
       "       -0.02489283, -0.02498483, -0.02506747, -0.02514239, -0.02521098,\n",
       "       -0.02527436, -0.02533345, -0.02538902, -0.02544169, -0.02549198,\n",
       "       -0.0255403 , -0.02558702, -0.0256324 , -0.0256767 , -0.0257201 ,\n",
       "       -0.02576277, -0.02580483, -0.02584639, -0.02588754, -0.02592835,\n",
       "       -0.02596889, -0.02600919, -0.02604931, -0.02608928, -0.02612912,\n",
       "       -0.02616885, -0.0262085 , -0.02624808, -0.0262876 , -0.02632708,\n",
       "       -0.02636651, -0.02640591, -0.02644529, -0.02648464, -0.02652397,\n",
       "       -0.02656329, -0.0266026 , -0.0266419 , -0.02668119, -0.02672048,\n",
       "       -0.02675975, -0.02679903, -0.0268383 , -0.02687756, -0.02691683,\n",
       "       -0.02695609, -0.02699535, -0.02703461, -0.02707386, -0.02711312,\n",
       "       -0.02715238, -0.02719163, -0.02723089, -0.02727014, -0.0273094 ,\n",
       "       -0.02734865, -0.0273879 , -0.02742716, -0.02746641, -0.02750566,\n",
       "       -0.02754491, -0.02758417, -0.02762342, -0.02766267, -0.02770192,\n",
       "       -0.02774118, -0.02778043, -0.02781968, -0.02785893, -0.02789819,\n",
       "       -0.02793744, -0.02797669, -0.02801594, -0.02805519, -0.02809445,\n",
       "       -0.0281337 , -0.02817295, -0.0282122 , -0.02825146, -0.02829071,\n",
       "       -0.02832996, -0.02836921, -0.02840846, -0.02844772, -0.02848697,\n",
       "       -0.02852622, -0.02856547, -0.02860473, -0.02864398, -0.02868323,\n",
       "       -0.02872248, -0.02876173, -0.02880099, -0.02884024, -0.02887949,\n",
       "       -0.02891874, -0.028958  , -0.02899725, -0.0290365 , -0.02907575,\n",
       "       -0.029115  , -0.02915426, -0.02919351, -0.02923276, -0.02927201,\n",
       "       -0.02931127, -0.02935052, -0.02938977, -0.02942902, -0.02946827,\n",
       "       -0.02950753, -0.02954678, -0.02958603, -0.02962528, -0.02966454,\n",
       "       -0.02970379, -0.02974304, -0.02978229, -0.02982154, -0.0298608 ,\n",
       "       -0.02990005, -0.0299393 , -0.02997855, -0.03001781, -0.03005706,\n",
       "       -0.03009631, -0.03013556, -0.03017481, -0.03021407, -0.03025332,\n",
       "       -0.03029257, -0.03033182, -0.03037108, -0.03041033, -0.03044958,\n",
       "       -0.03048883, -0.03052808, -0.03056734, -0.03060659, -0.03064584,\n",
       "       -0.03068509, -0.03072435, -0.0307636 , -0.03080285, -0.0308421 ,\n",
       "       -0.03088135, -0.03092061, -0.03095986, -0.03099911, -0.03103836,\n",
       "       -0.03107762, -0.03111687, -0.03115612, -0.03119537, -0.03123462,\n",
       "       -0.03127388, -0.03131313, -0.03135238, -0.03139163, -0.03143089,\n",
       "       -0.03147014, -0.03150939, -0.03154864, -0.03158789, -0.03162715,\n",
       "       -0.0316664 , -0.03170565, -0.0317449 , -0.03178416, -0.03182341,\n",
       "       -0.03186266, -0.03190191, -0.03194116, -0.03198042, -0.03201967,\n",
       "       -0.03205892, -0.03209817, -0.03213743, -0.03217668, -0.03221593,\n",
       "       -0.03225518, -0.03229443, -0.03233369, -0.03237294, -0.03241219,\n",
       "       -0.03245144, -0.0324907 , -0.03252995, -0.0325692 , -0.03260845,\n",
       "       -0.0326477 , -0.03268696, -0.03272621, -0.03276546, -0.03280471,\n",
       "       -0.03284397, -0.03288322, -0.03292247, -0.03296172, -0.03300097,\n",
       "       -0.03304023, -0.03307948, -0.03311873, -0.03315798, -0.03319724,\n",
       "       -0.03323649, -0.03327574, -0.03331499, -0.03335424, -0.0333935 ,\n",
       "       -0.03343275, -0.033472  , -0.03351125, -0.03355051, -0.03358976,\n",
       "       -0.03362901, -0.03366826, -0.03370751, -0.03374677, -0.03378602,\n",
       "       -0.03382527, -0.03386452, -0.03390378, -0.03394303, -0.03398228,\n",
       "       -0.03402153, -0.03406078, -0.03410004, -0.03413929, -0.03417854,\n",
       "       -0.03421779, -0.03425705, -0.0342963 , -0.03433555, -0.0343748 ,\n",
       "       -0.03441405, -0.03445331, -0.03449256, -0.03453181, -0.03457106,\n",
       "       -0.03461032, -0.03464957, -0.03468882, -0.03472807, -0.03476732,\n",
       "       -0.03480658, -0.03484583, -0.03488508, -0.03492433, -0.03496358,\n",
       "       -0.03500284, -0.03504209, -0.03508134, -0.03512059, -0.03515985,\n",
       "       -0.0351991 , -0.03523835, -0.0352776 , -0.03531685, -0.03535611,\n",
       "       -0.03539536, -0.03543461, -0.03547386, -0.03551312, -0.03555237,\n",
       "       -0.03559162, -0.03563087, -0.03567012, -0.03570938, -0.03574863,\n",
       "       -0.03578788, -0.03582713, -0.03586639, -0.03590564, -0.03594489,\n",
       "       -0.03598414, -0.03602339, -0.03606265, -0.0361019 , -0.03614115,\n",
       "       -0.0361804 , -0.03621966, -0.03625891, -0.03629816, -0.03633741,\n",
       "       -0.03637666, -0.03641592, -0.03645517, -0.03649442, -0.03653367,\n",
       "       -0.03657293, -0.03661218, -0.03665143, -0.03669068, -0.03672993,\n",
       "       -0.03676919, -0.03680844, -0.03684769, -0.03688694, -0.0369262 ,\n",
       "       -0.03696545, -0.0370047 , -0.03704395, -0.0370832 , -0.03712246,\n",
       "       -0.03716171, -0.03720096, -0.03724021, -0.03727947, -0.03731872,\n",
       "       -0.03735797, -0.03739722, -0.03743647, -0.03747573, -0.03751498,\n",
       "       -0.03755423, -0.03759348, -0.03763274, -0.03767199, -0.03771124,\n",
       "       -0.03775049, -0.03778974, -0.037829  , -0.03786825, -0.0379075 ,\n",
       "       -0.03794675, -0.03798601, -0.03802526, -0.03806451, -0.03810376,\n",
       "       -0.03814301, -0.03818227, -0.03822152, -0.03826077, -0.03830002,\n",
       "       -0.03833928, -0.03837853, -0.03841778, -0.03845703, -0.03849628])"
      ]
     },
     "execution_count": 86,
     "metadata": {},
     "output_type": "execute_result"
    }
   ],
   "source": [
    "res, res_std, res_conf = results.forecast(360)\n",
    "res"
   ]
  },
  {
   "cell_type": "code",
   "execution_count": null,
   "metadata": {},
   "outputs": [],
   "source": [
    "from matplotlib import pyplot\n",
    "plt.rcParams[\"figure.figsize\"] = (15,10)\n",
    "fig, ax = plt.subplots(4, 1)\n",
    "ax[0].plot(g)\n",
    "ax[1].plot(decomp.trend)\n",
    "ax[2].plot(decomp.seasonal)\n",
    "ax[3].scatter(x = range(len(decomp.trend)), y= decomp.resid)\n",
    "ax[0].set_ylabel('Observed', size = 15)\n",
    "ax[1].set_ylabel('Trend', size = 15)\n",
    "ax[2].set_ylabel('Seasonal', size = 15)\n",
    "ax[3].set_ylabel('Residue', size = 15)\n",
    "ax[3].set_xlabel('Time After January 1941 (Months)', size = 15)\n",
    "#ax[1].tick_params(labelsize=20)\n",
    "plt.savefig('decomp.pdf')"
   ]
  },
  {
   "cell_type": "code",
   "execution_count": 18,
   "metadata": {},
   "outputs": [
    {
     "data": {
      "text/plain": [
       "[0, 1, 2, 3]"
      ]
     },
     "execution_count": 18,
     "metadata": {},
     "output_type": "execute_result"
    }
   ],
   "source": [
    "a = [0,1]\n",
    "a.extend([2, 3])\n",
    "a"
   ]
  },
  {
   "cell_type": "code",
   "execution_count": null,
   "metadata": {},
   "outputs": [],
   "source": []
  }
 ],
 "metadata": {
  "kernelspec": {
   "display_name": "Python 3 (ipykernel)",
   "language": "python",
   "name": "python3"
  },
  "language_info": {
   "codemirror_mode": {
    "name": "ipython",
    "version": 3
   },
   "file_extension": ".py",
   "mimetype": "text/x-python",
   "name": "python",
   "nbconvert_exporter": "python",
   "pygments_lexer": "ipython3",
   "version": "3.9.7"
  }
 },
 "nbformat": 4,
 "nbformat_minor": 4
}
